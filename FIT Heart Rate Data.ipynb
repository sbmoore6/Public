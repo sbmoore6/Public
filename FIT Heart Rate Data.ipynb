{
 "cells": [
  {
   "cell_type": "markdown",
   "id": "7f06a259-5edd-4a90-a19d-46ab3e58d322",
   "metadata": {},
   "source": [
    "# Heart Rate Analysis of Data"
   ]
  },
  {
   "cell_type": "markdown",
   "id": "58e203d3-4ac0-4131-9a89-14949ff0f584",
   "metadata": {},
   "source": [
    "Heart rate is a good indicator of the intensity of a workout and cardiovascular fitness. Higher heart rates indicate more intense workout and lower heart rates can indicate a less stressful workout. A lower resting heart rate and a shorter heart rate recovery time can indicate good cardiovasular fitness. Heart rate's correlation with fitness made it a good area to focus on in the fit data analysis. "
   ]
  },
  {
   "cell_type": "markdown",
   "id": "5566e9ef-7e3c-4e15-9d38-a068260e8933",
   "metadata": {},
   "source": [
    "## Relationship between Heart Rate, Altitude, and Speed in Exercise"
   ]
  },
  {
   "cell_type": "markdown",
   "id": "211774db-4d69-4774-aad4-187ebb9d5076",
   "metadata": {},
   "source": [
    "My first analysis focuses on the correlations between mean heart rate, altitude, and speed. I used line charts stacked on one another to easily visualize how these might be related. "
   ]
  },
  {
   "cell_type": "code",
   "execution_count": 1,
   "id": "ddb69a60-de98-478b-bc0a-a5adc2c73392",
   "metadata": {},
   "outputs": [],
   "source": [
    "import pandas as pd\n",
    "import numpy as np\n",
    "import plotly.graph_objects as go\n",
    "from plotly.subplots import make_subplots\n",
    "import plotly.express as px\n",
    "from math import sin, cos, sqrt, atan2, radians"
   ]
  },
  {
   "cell_type": "code",
   "execution_count": 74,
   "id": "72dea42c-da34-4e06-9d78-f736c5f0ae3a",
   "metadata": {
    "tags": []
   },
   "outputs": [
    {
     "data": {
      "text/html": [
       "<div>\n",
       "<style scoped>\n",
       "    .dataframe tbody tr th:only-of-type {\n",
       "        vertical-align: middle;\n",
       "    }\n",
       "\n",
       "    .dataframe tbody tr th {\n",
       "        vertical-align: top;\n",
       "    }\n",
       "\n",
       "    .dataframe thead th {\n",
       "        text-align: right;\n",
       "    }\n",
       "</style>\n",
       "<table border=\"1\" class=\"dataframe\">\n",
       "  <thead>\n",
       "    <tr style=\"text-align: right;\">\n",
       "      <th></th>\n",
       "      <th>day</th>\n",
       "      <th>heart_rate</th>\n",
       "      <th>enhanced_speed</th>\n",
       "      <th>enhanced_altitude</th>\n",
       "    </tr>\n",
       "  </thead>\n",
       "  <tbody>\n",
       "    <tr>\n",
       "      <th>0</th>\n",
       "      <td>August 01, 2019</td>\n",
       "      <td>127.416988</td>\n",
       "      <td>2.361761</td>\n",
       "      <td>276.465637</td>\n",
       "    </tr>\n",
       "    <tr>\n",
       "      <th>1</th>\n",
       "      <td>August 02, 2019</td>\n",
       "      <td>102.106195</td>\n",
       "      <td>2.029106</td>\n",
       "      <td>456.401770</td>\n",
       "    </tr>\n",
       "    <tr>\n",
       "      <th>2</th>\n",
       "      <td>August 03, 2019</td>\n",
       "      <td>127.827273</td>\n",
       "      <td>2.396082</td>\n",
       "      <td>265.910000</td>\n",
       "    </tr>\n",
       "    <tr>\n",
       "      <th>3</th>\n",
       "      <td>August 04, 2019</td>\n",
       "      <td>121.239078</td>\n",
       "      <td>2.050475</td>\n",
       "      <td>262.485437</td>\n",
       "    </tr>\n",
       "    <tr>\n",
       "      <th>4</th>\n",
       "      <td>August 05, 2019</td>\n",
       "      <td>127.883929</td>\n",
       "      <td>2.261036</td>\n",
       "      <td>262.133036</td>\n",
       "    </tr>\n",
       "  </tbody>\n",
       "</table>\n",
       "</div>"
      ],
      "text/plain": [
       "               day  heart_rate  enhanced_speed  enhanced_altitude\n",
       "0  August 01, 2019  127.416988        2.361761         276.465637\n",
       "1  August 02, 2019  102.106195        2.029106         456.401770\n",
       "2  August 03, 2019  127.827273        2.396082         265.910000\n",
       "3  August 04, 2019  121.239078        2.050475         262.485437\n",
       "4  August 05, 2019  127.883929        2.261036         262.133036"
      ]
     },
     "execution_count": 74,
     "metadata": {},
     "output_type": "execute_result"
    }
   ],
   "source": [
    "df = pd.read_csv('assets/strava.csv')\n",
    "df['timestamp'] = pd.to_datetime(df['timestamp'])\n",
    "df['day'] = df['timestamp'].dt.strftime('%B %d, %Y')\n",
    "df['time'] = df['timestamp'].dt.time\n",
    "df_means = df[['datafile', 'heart_rate', 'enhanced_speed', 'timestamp', 'enhanced_altitude', 'day']]\n",
    "df_means = df_means.groupby('day').mean()\n",
    "df_means.reset_index(inplace=True)\n",
    "df_means.head(5)\n"
   ]
  },
  {
   "cell_type": "code",
   "execution_count": 73,
   "id": "72280ba7-49d8-4cb1-8b4a-90ba5a820f88",
   "metadata": {
    "tags": []
   },
   "outputs": [
    {
     "data": {
      "application/vnd.plotly.v1+json": {
       "config": {
        "plotlyServerURL": "https://plot.ly"
       },
       "data": [
        {
         "name": "Heart Rate",
         "type": "scatter",
         "x": [
          "August 01, 2019",
          "August 02, 2019",
          "August 03, 2019",
          "August 04, 2019",
          "August 05, 2019",
          "August 06, 2019",
          "August 07, 2019",
          "August 08, 2019",
          "August 09, 2019",
          "August 10, 2019",
          "August 11, 2019",
          "August 12, 2019",
          "August 14, 2019",
          "August 17, 2019",
          "August 18, 2019",
          "August 20, 2019",
          "August 21, 2019",
          "August 23, 2019",
          "August 24, 2019",
          "August 28, 2019",
          "August 31, 2019",
          "July 08, 2019",
          "July 10, 2019",
          "July 12, 2019",
          "July 14, 2019",
          "July 16, 2019",
          "July 17, 2019",
          "July 18, 2019",
          "July 20, 2019",
          "July 21, 2019",
          "July 22, 2019",
          "July 23, 2019",
          "July 24, 2019",
          "July 25, 2019",
          "July 26, 2019",
          "July 27, 2019",
          "July 28, 2019",
          "July 29, 2019",
          "July 30, 2019",
          "July 31, 2019",
          "October 03, 2019",
          "September 12, 2019",
          "September 14, 2019",
          "September 15, 2019",
          "September 16, 2019",
          "September 23, 2019",
          "September 25, 2019",
          "September 28, 2019",
          "September 30, 2019"
         ],
         "xaxis": "x",
         "y": [
          127.41698841698842,
          102.10619469026548,
          127.82727272727273,
          121.23907766990291,
          127.88392857142857,
          128.38135593220338,
          155.55254237288136,
          135.7467362924282,
          138.0723404255319,
          150.09715639810426,
          147.32151300236407,
          127.13636363636364,
          138.46666666666667,
          163.40175150519977,
          139.30678466076697,
          140.86654843715363,
          155.45467980295567,
          138.96144767899293,
          124.92461538461538,
          143.1836228287841,
          154.51569506726457,
          118.33739837398375,
          130.12359550561797,
          117.68715697036224,
          113.64236111111111,
          118.85882352941177,
          136.42450142450141,
          115.17678571428571,
          108.33712121212122,
          129.34065934065933,
          129.77430555555554,
          129.78977272727272,
          122.07986111111111,
          110.6313725490196,
          117.93300492610838,
          113.509375,
          118.13650793650794,
          99.187675070028,
          118.96138996138995,
          108.97242380261248,
          135.95555555555555,
          121.89221556886227,
          134.1216216216216,
          null,
          125.92454728370221,
          131.16871704745168,
          132.7792207792208,
          143.8242574257426,
          null
         ],
         "yaxis": "y"
        },
        {
         "name": "Altitude",
         "type": "scatter",
         "x": [
          "August 01, 2019",
          "August 02, 2019",
          "August 03, 2019",
          "August 04, 2019",
          "August 05, 2019",
          "August 06, 2019",
          "August 07, 2019",
          "August 08, 2019",
          "August 09, 2019",
          "August 10, 2019",
          "August 11, 2019",
          "August 12, 2019",
          "August 14, 2019",
          "August 17, 2019",
          "August 18, 2019",
          "August 20, 2019",
          "August 21, 2019",
          "August 23, 2019",
          "August 24, 2019",
          "August 28, 2019",
          "August 31, 2019",
          "July 08, 2019",
          "July 10, 2019",
          "July 12, 2019",
          "July 14, 2019",
          "July 16, 2019",
          "July 17, 2019",
          "July 18, 2019",
          "July 20, 2019",
          "July 21, 2019",
          "July 22, 2019",
          "July 23, 2019",
          "July 24, 2019",
          "July 25, 2019",
          "July 26, 2019",
          "July 27, 2019",
          "July 28, 2019",
          "July 29, 2019",
          "July 30, 2019",
          "July 31, 2019",
          "October 03, 2019",
          "September 12, 2019",
          "September 14, 2019",
          "September 15, 2019",
          "September 16, 2019",
          "September 23, 2019",
          "September 25, 2019",
          "September 28, 2019",
          "September 30, 2019"
         ],
         "xaxis": "x2",
         "y": [
          276.4656370656371,
          456.40176991150446,
          265.90999999999997,
          262.4854368932039,
          262.1330357142857,
          268.1915254237288,
          250.73220338983052,
          262.89086161879897,
          287.1753191489362,
          295.13317535545025,
          241.18912529550826,
          250.1077922077922,
          287.341309255079,
          306.703776683087,
          258.4810226155359,
          249.1774772777655,
          294.46119920713573,
          289.964909520063,
          271.64707692307695,
          269.11588089330024,
          293.3093049327354,
          264.6074074074074,
          255.32808988764046,
          270.9510428100988,
          274.33166666666665,
          261.97751479289946,
          255.3988603988604,
          269.48200537153093,
          271.2366666666667,
          270.05227272727274,
          278.2055555555555,
          305.71931818181815,
          272.39895470383277,
          259.3411764705882,
          248.27802955665027,
          270.8836477987421,
          240.8152380952381,
          294.4453781512605,
          259.86563706563703,
          259.28795355587806,
          258.2528735632184,
          252.1764471057884,
          257.97191719171917,
          268.5341176470588,
          252.72287712287712,
          264.360632688928,
          261.3780548628429,
          255.34851485148516,
          259.95592417061613
         ],
         "yaxis": "y2"
        },
        {
         "name": "Speed",
         "type": "scatter",
         "x": [
          "August 01, 2019",
          "August 02, 2019",
          "August 03, 2019",
          "August 04, 2019",
          "August 05, 2019",
          "August 06, 2019",
          "August 07, 2019",
          "August 08, 2019",
          "August 09, 2019",
          "August 10, 2019",
          "August 11, 2019",
          "August 12, 2019",
          "August 14, 2019",
          "August 17, 2019",
          "August 18, 2019",
          "August 20, 2019",
          "August 21, 2019",
          "August 23, 2019",
          "August 24, 2019",
          "August 28, 2019",
          "August 31, 2019",
          "July 08, 2019",
          "July 10, 2019",
          "July 12, 2019",
          "July 14, 2019",
          "July 16, 2019",
          "July 17, 2019",
          "July 18, 2019",
          "July 20, 2019",
          "July 21, 2019",
          "July 22, 2019",
          "July 23, 2019",
          "July 24, 2019",
          "July 25, 2019",
          "July 26, 2019",
          "July 27, 2019",
          "July 28, 2019",
          "July 29, 2019",
          "July 30, 2019",
          "July 31, 2019",
          "October 03, 2019",
          "September 12, 2019",
          "September 14, 2019",
          "September 15, 2019",
          "September 16, 2019",
          "September 23, 2019",
          "September 25, 2019",
          "September 28, 2019",
          "September 30, 2019"
         ],
         "xaxis": "x3",
         "y": [
          2.361760617760618,
          2.0291061946902653,
          2.3960818181818184,
          2.0504745145631067,
          2.2610357142857143,
          2.2266610169491523,
          2.567081355932203,
          1.7195483028720626,
          2.207374468085106,
          2.623632701421801,
          2.6528250591016547,
          2.2404935064935065,
          2.3966444444444446,
          2.7575801860974276,
          2.496084562438545,
          2.2349527820882287,
          2.5255645320197044,
          2.356642014162077,
          2.238753076923077,
          2.6214776674937967,
          2.8227180493273543,
          2.0881544715447156,
          2.581567415730337,
          1.966211855104281,
          1.845992361111111,
          2.3804117647058822,
          2.346354285714286,
          1.7372285714285713,
          1.7942621212121213,
          2.3383933823529413,
          2.4162777777777777,
          2.3076789772727273,
          2.158751304347826,
          1.8675725490196078,
          1.954671921182266,
          1.984561128526646,
          2.1622761904761902,
          1.6760364145658264,
          2.0678050193050193,
          2.023512336719884,
          6.592298312883435,
          5.010059880239521,
          6.471152115211521,
          5.543096078431372,
          6.365662337662338,
          5.903937943262411,
          5.510255195344971,
          7.069992574257426,
          6.54738625592417
         ],
         "yaxis": "y3"
        }
       ],
       "layout": {
        "autosize": true,
        "template": {
         "data": {
          "bar": [
           {
            "error_x": {
             "color": "#2a3f5f"
            },
            "error_y": {
             "color": "#2a3f5f"
            },
            "marker": {
             "line": {
              "color": "#E5ECF6",
              "width": 0.5
             },
             "pattern": {
              "fillmode": "overlay",
              "size": 10,
              "solidity": 0.2
             }
            },
            "type": "bar"
           }
          ],
          "barpolar": [
           {
            "marker": {
             "line": {
              "color": "#E5ECF6",
              "width": 0.5
             },
             "pattern": {
              "fillmode": "overlay",
              "size": 10,
              "solidity": 0.2
             }
            },
            "type": "barpolar"
           }
          ],
          "carpet": [
           {
            "aaxis": {
             "endlinecolor": "#2a3f5f",
             "gridcolor": "white",
             "linecolor": "white",
             "minorgridcolor": "white",
             "startlinecolor": "#2a3f5f"
            },
            "baxis": {
             "endlinecolor": "#2a3f5f",
             "gridcolor": "white",
             "linecolor": "white",
             "minorgridcolor": "white",
             "startlinecolor": "#2a3f5f"
            },
            "type": "carpet"
           }
          ],
          "choropleth": [
           {
            "colorbar": {
             "outlinewidth": 0,
             "ticks": ""
            },
            "type": "choropleth"
           }
          ],
          "contour": [
           {
            "colorbar": {
             "outlinewidth": 0,
             "ticks": ""
            },
            "colorscale": [
             [
              0,
              "#0d0887"
             ],
             [
              0.1111111111111111,
              "#46039f"
             ],
             [
              0.2222222222222222,
              "#7201a8"
             ],
             [
              0.3333333333333333,
              "#9c179e"
             ],
             [
              0.4444444444444444,
              "#bd3786"
             ],
             [
              0.5555555555555556,
              "#d8576b"
             ],
             [
              0.6666666666666666,
              "#ed7953"
             ],
             [
              0.7777777777777778,
              "#fb9f3a"
             ],
             [
              0.8888888888888888,
              "#fdca26"
             ],
             [
              1,
              "#f0f921"
             ]
            ],
            "type": "contour"
           }
          ],
          "contourcarpet": [
           {
            "colorbar": {
             "outlinewidth": 0,
             "ticks": ""
            },
            "type": "contourcarpet"
           }
          ],
          "heatmap": [
           {
            "colorbar": {
             "outlinewidth": 0,
             "ticks": ""
            },
            "colorscale": [
             [
              0,
              "#0d0887"
             ],
             [
              0.1111111111111111,
              "#46039f"
             ],
             [
              0.2222222222222222,
              "#7201a8"
             ],
             [
              0.3333333333333333,
              "#9c179e"
             ],
             [
              0.4444444444444444,
              "#bd3786"
             ],
             [
              0.5555555555555556,
              "#d8576b"
             ],
             [
              0.6666666666666666,
              "#ed7953"
             ],
             [
              0.7777777777777778,
              "#fb9f3a"
             ],
             [
              0.8888888888888888,
              "#fdca26"
             ],
             [
              1,
              "#f0f921"
             ]
            ],
            "type": "heatmap"
           }
          ],
          "heatmapgl": [
           {
            "colorbar": {
             "outlinewidth": 0,
             "ticks": ""
            },
            "colorscale": [
             [
              0,
              "#0d0887"
             ],
             [
              0.1111111111111111,
              "#46039f"
             ],
             [
              0.2222222222222222,
              "#7201a8"
             ],
             [
              0.3333333333333333,
              "#9c179e"
             ],
             [
              0.4444444444444444,
              "#bd3786"
             ],
             [
              0.5555555555555556,
              "#d8576b"
             ],
             [
              0.6666666666666666,
              "#ed7953"
             ],
             [
              0.7777777777777778,
              "#fb9f3a"
             ],
             [
              0.8888888888888888,
              "#fdca26"
             ],
             [
              1,
              "#f0f921"
             ]
            ],
            "type": "heatmapgl"
           }
          ],
          "histogram": [
           {
            "marker": {
             "pattern": {
              "fillmode": "overlay",
              "size": 10,
              "solidity": 0.2
             }
            },
            "type": "histogram"
           }
          ],
          "histogram2d": [
           {
            "colorbar": {
             "outlinewidth": 0,
             "ticks": ""
            },
            "colorscale": [
             [
              0,
              "#0d0887"
             ],
             [
              0.1111111111111111,
              "#46039f"
             ],
             [
              0.2222222222222222,
              "#7201a8"
             ],
             [
              0.3333333333333333,
              "#9c179e"
             ],
             [
              0.4444444444444444,
              "#bd3786"
             ],
             [
              0.5555555555555556,
              "#d8576b"
             ],
             [
              0.6666666666666666,
              "#ed7953"
             ],
             [
              0.7777777777777778,
              "#fb9f3a"
             ],
             [
              0.8888888888888888,
              "#fdca26"
             ],
             [
              1,
              "#f0f921"
             ]
            ],
            "type": "histogram2d"
           }
          ],
          "histogram2dcontour": [
           {
            "colorbar": {
             "outlinewidth": 0,
             "ticks": ""
            },
            "colorscale": [
             [
              0,
              "#0d0887"
             ],
             [
              0.1111111111111111,
              "#46039f"
             ],
             [
              0.2222222222222222,
              "#7201a8"
             ],
             [
              0.3333333333333333,
              "#9c179e"
             ],
             [
              0.4444444444444444,
              "#bd3786"
             ],
             [
              0.5555555555555556,
              "#d8576b"
             ],
             [
              0.6666666666666666,
              "#ed7953"
             ],
             [
              0.7777777777777778,
              "#fb9f3a"
             ],
             [
              0.8888888888888888,
              "#fdca26"
             ],
             [
              1,
              "#f0f921"
             ]
            ],
            "type": "histogram2dcontour"
           }
          ],
          "mesh3d": [
           {
            "colorbar": {
             "outlinewidth": 0,
             "ticks": ""
            },
            "type": "mesh3d"
           }
          ],
          "parcoords": [
           {
            "line": {
             "colorbar": {
              "outlinewidth": 0,
              "ticks": ""
             }
            },
            "type": "parcoords"
           }
          ],
          "pie": [
           {
            "automargin": true,
            "type": "pie"
           }
          ],
          "scatter": [
           {
            "fillpattern": {
             "fillmode": "overlay",
             "size": 10,
             "solidity": 0.2
            },
            "type": "scatter"
           }
          ],
          "scatter3d": [
           {
            "line": {
             "colorbar": {
              "outlinewidth": 0,
              "ticks": ""
             }
            },
            "marker": {
             "colorbar": {
              "outlinewidth": 0,
              "ticks": ""
             }
            },
            "type": "scatter3d"
           }
          ],
          "scattercarpet": [
           {
            "marker": {
             "colorbar": {
              "outlinewidth": 0,
              "ticks": ""
             }
            },
            "type": "scattercarpet"
           }
          ],
          "scattergeo": [
           {
            "marker": {
             "colorbar": {
              "outlinewidth": 0,
              "ticks": ""
             }
            },
            "type": "scattergeo"
           }
          ],
          "scattergl": [
           {
            "marker": {
             "colorbar": {
              "outlinewidth": 0,
              "ticks": ""
             }
            },
            "type": "scattergl"
           }
          ],
          "scattermapbox": [
           {
            "marker": {
             "colorbar": {
              "outlinewidth": 0,
              "ticks": ""
             }
            },
            "type": "scattermapbox"
           }
          ],
          "scatterpolar": [
           {
            "marker": {
             "colorbar": {
              "outlinewidth": 0,
              "ticks": ""
             }
            },
            "type": "scatterpolar"
           }
          ],
          "scatterpolargl": [
           {
            "marker": {
             "colorbar": {
              "outlinewidth": 0,
              "ticks": ""
             }
            },
            "type": "scatterpolargl"
           }
          ],
          "scatterternary": [
           {
            "marker": {
             "colorbar": {
              "outlinewidth": 0,
              "ticks": ""
             }
            },
            "type": "scatterternary"
           }
          ],
          "surface": [
           {
            "colorbar": {
             "outlinewidth": 0,
             "ticks": ""
            },
            "colorscale": [
             [
              0,
              "#0d0887"
             ],
             [
              0.1111111111111111,
              "#46039f"
             ],
             [
              0.2222222222222222,
              "#7201a8"
             ],
             [
              0.3333333333333333,
              "#9c179e"
             ],
             [
              0.4444444444444444,
              "#bd3786"
             ],
             [
              0.5555555555555556,
              "#d8576b"
             ],
             [
              0.6666666666666666,
              "#ed7953"
             ],
             [
              0.7777777777777778,
              "#fb9f3a"
             ],
             [
              0.8888888888888888,
              "#fdca26"
             ],
             [
              1,
              "#f0f921"
             ]
            ],
            "type": "surface"
           }
          ],
          "table": [
           {
            "cells": {
             "fill": {
              "color": "#EBF0F8"
             },
             "line": {
              "color": "white"
             }
            },
            "header": {
             "fill": {
              "color": "#C8D4E3"
             },
             "line": {
              "color": "white"
             }
            },
            "type": "table"
           }
          ]
         },
         "layout": {
          "annotationdefaults": {
           "arrowcolor": "#2a3f5f",
           "arrowhead": 0,
           "arrowwidth": 1
          },
          "autotypenumbers": "strict",
          "coloraxis": {
           "colorbar": {
            "outlinewidth": 0,
            "ticks": ""
           }
          },
          "colorscale": {
           "diverging": [
            [
             0,
             "#8e0152"
            ],
            [
             0.1,
             "#c51b7d"
            ],
            [
             0.2,
             "#de77ae"
            ],
            [
             0.3,
             "#f1b6da"
            ],
            [
             0.4,
             "#fde0ef"
            ],
            [
             0.5,
             "#f7f7f7"
            ],
            [
             0.6,
             "#e6f5d0"
            ],
            [
             0.7,
             "#b8e186"
            ],
            [
             0.8,
             "#7fbc41"
            ],
            [
             0.9,
             "#4d9221"
            ],
            [
             1,
             "#276419"
            ]
           ],
           "sequential": [
            [
             0,
             "#0d0887"
            ],
            [
             0.1111111111111111,
             "#46039f"
            ],
            [
             0.2222222222222222,
             "#7201a8"
            ],
            [
             0.3333333333333333,
             "#9c179e"
            ],
            [
             0.4444444444444444,
             "#bd3786"
            ],
            [
             0.5555555555555556,
             "#d8576b"
            ],
            [
             0.6666666666666666,
             "#ed7953"
            ],
            [
             0.7777777777777778,
             "#fb9f3a"
            ],
            [
             0.8888888888888888,
             "#fdca26"
            ],
            [
             1,
             "#f0f921"
            ]
           ],
           "sequentialminus": [
            [
             0,
             "#0d0887"
            ],
            [
             0.1111111111111111,
             "#46039f"
            ],
            [
             0.2222222222222222,
             "#7201a8"
            ],
            [
             0.3333333333333333,
             "#9c179e"
            ],
            [
             0.4444444444444444,
             "#bd3786"
            ],
            [
             0.5555555555555556,
             "#d8576b"
            ],
            [
             0.6666666666666666,
             "#ed7953"
            ],
            [
             0.7777777777777778,
             "#fb9f3a"
            ],
            [
             0.8888888888888888,
             "#fdca26"
            ],
            [
             1,
             "#f0f921"
            ]
           ]
          },
          "colorway": [
           "#636efa",
           "#EF553B",
           "#00cc96",
           "#ab63fa",
           "#FFA15A",
           "#19d3f3",
           "#FF6692",
           "#B6E880",
           "#FF97FF",
           "#FECB52"
          ],
          "font": {
           "color": "#2a3f5f"
          },
          "geo": {
           "bgcolor": "white",
           "lakecolor": "white",
           "landcolor": "#E5ECF6",
           "showlakes": true,
           "showland": true,
           "subunitcolor": "white"
          },
          "hoverlabel": {
           "align": "left"
          },
          "hovermode": "closest",
          "mapbox": {
           "style": "light"
          },
          "paper_bgcolor": "white",
          "plot_bgcolor": "#E5ECF6",
          "polar": {
           "angularaxis": {
            "gridcolor": "white",
            "linecolor": "white",
            "ticks": ""
           },
           "bgcolor": "#E5ECF6",
           "radialaxis": {
            "gridcolor": "white",
            "linecolor": "white",
            "ticks": ""
           }
          },
          "scene": {
           "xaxis": {
            "backgroundcolor": "#E5ECF6",
            "gridcolor": "white",
            "gridwidth": 2,
            "linecolor": "white",
            "showbackground": true,
            "ticks": "",
            "zerolinecolor": "white"
           },
           "yaxis": {
            "backgroundcolor": "#E5ECF6",
            "gridcolor": "white",
            "gridwidth": 2,
            "linecolor": "white",
            "showbackground": true,
            "ticks": "",
            "zerolinecolor": "white"
           },
           "zaxis": {
            "backgroundcolor": "#E5ECF6",
            "gridcolor": "white",
            "gridwidth": 2,
            "linecolor": "white",
            "showbackground": true,
            "ticks": "",
            "zerolinecolor": "white"
           }
          },
          "shapedefaults": {
           "line": {
            "color": "#2a3f5f"
           }
          },
          "ternary": {
           "aaxis": {
            "gridcolor": "white",
            "linecolor": "white",
            "ticks": ""
           },
           "baxis": {
            "gridcolor": "white",
            "linecolor": "white",
            "ticks": ""
           },
           "bgcolor": "#E5ECF6",
           "caxis": {
            "gridcolor": "white",
            "linecolor": "white",
            "ticks": ""
           }
          },
          "title": {
           "x": 0.05
          },
          "xaxis": {
           "automargin": true,
           "gridcolor": "white",
           "linecolor": "white",
           "ticks": "",
           "title": {
            "standoff": 15
           },
           "zerolinecolor": "white",
           "zerolinewidth": 2
          },
          "yaxis": {
           "automargin": true,
           "gridcolor": "white",
           "linecolor": "white",
           "ticks": "",
           "title": {
            "standoff": 15
           },
           "zerolinecolor": "white",
           "zerolinewidth": 2
          }
         }
        },
        "title": {
         "text": "Heart Rate vs Altitude vs Speed<br><sup>Means per Day</sup>",
         "x": 0.5,
         "xanchor": "center",
         "yanchor": "top"
        },
        "xaxis": {
         "anchor": "y",
         "autorange": true,
         "domain": [
          0,
          1
         ],
         "matches": "x3",
         "range": [
          0,
          48
         ],
         "showticklabels": false,
         "tickangle": -45,
         "type": "category"
        },
        "xaxis2": {
         "anchor": "y2",
         "autorange": true,
         "domain": [
          0,
          1
         ],
         "matches": "x3",
         "range": [
          0,
          48
         ],
         "showticklabels": false,
         "tickangle": -45,
         "type": "category"
        },
        "xaxis3": {
         "anchor": "y3",
         "autorange": true,
         "domain": [
          0,
          1
         ],
         "range": [
          0,
          48
         ],
         "tickangle": -45,
         "type": "category"
        },
        "yaxis": {
         "anchor": "x",
         "autorange": true,
         "domain": [
          0.7333333333333333,
          1
         ],
         "range": [
          95.62022637918513,
          166.96920019604264
         ],
         "title": {
          "text": "Heart Rate (bpm)"
         },
         "type": "linear"
        },
        "yaxis2": {
         "anchor": "x2",
         "autorange": true,
         "domain": [
          0.36666666666666664,
          0.6333333333333333
         ],
         "range": [
          228.83820854988997,
          468.37879945685256
         ],
         "title": {
          "text": "Altitude (meters)"
         },
         "type": "linear"
        },
        "yaxis3": {
         "anchor": "x3",
         "autorange": true,
         "domain": [
          0,
          0.26666666666666666
         ],
         "range": [
          1.3763721834718488,
          7.369656805351403
         ],
         "title": {
          "text": "Speed (meters/sec)"
         },
         "type": "linear"
        }
       }
      },
      "image/png": "[encoded data removed]",
      "text/html": [
       "<div>                            <div id=\"4819fc4a-715f-4f85-a081-10894a40a2ce\" class=\"plotly-graph-div\" style=\"height:800px; width:100%;\"></div>            <script type=\"text/javascript\">                require([\"plotly\"], function(Plotly) {                    window.PLOTLYENV=window.PLOTLYENV || {};                                    if (document.getElementById(\"4819fc4a-715f-4f85-a081-10894a40a2ce\")) {                    Plotly.newPlot(                        \"4819fc4a-715f-4f85-a081-10894a40a2ce\",                        [{\"name\":\"Heart Rate\",\"x\":[\"August 01, 2019\",\"August 02, 2019\",\"August 03, 2019\",\"August 04, 2019\",\"August 05, 2019\",\"August 06, 2019\",\"August 07, 2019\",\"August 08, 2019\",\"August 09, 2019\",\"August 10, 2019\",\"August 11, 2019\",\"August 12, 2019\",\"August 14, 2019\",\"August 17, 2019\",\"August 18, 2019\",\"August 20, 2019\",\"August 21, 2019\",\"August 23, 2019\",\"August 24, 2019\",\"August 28, 2019\",\"August 31, 2019\",\"July 08, 2019\",\"July 10, 2019\",\"July 12, 2019\",\"July 14, 2019\",\"July 16, 2019\",\"July 17, 2019\",\"July 18, 2019\",\"July 20, 2019\",\"July 21, 2019\",\"July 22, 2019\",\"July 23, 2019\",\"July 24, 2019\",\"July 25, 2019\",\"July 26, 2019\",\"July 27, 2019\",\"July 28, 2019\",\"July 29, 2019\",\"July 30, 2019\",\"July 31, 2019\",\"October 03, 2019\",\"September 12, 2019\",\"September 14, 2019\",\"September 15, 2019\",\"September 16, 2019\",\"September 23, 2019\",\"September 25, 2019\",\"September 28, 2019\",\"September 30, 2019\"],\"y\":[127.41698841698842,102.10619469026548,127.82727272727273,121.23907766990291,127.88392857142857,128.38135593220338,155.55254237288136,135.7467362924282,138.0723404255319,150.09715639810426,147.32151300236407,127.13636363636364,138.46666666666667,163.40175150519977,139.30678466076697,140.86654843715363,155.45467980295567,138.96144767899293,124.92461538461538,143.1836228287841,154.51569506726457,118.33739837398375,130.12359550561797,117.68715697036224,113.64236111111111,118.85882352941177,136.42450142450141,115.17678571428571,108.33712121212122,129.34065934065933,129.77430555555554,129.78977272727272,122.07986111111111,110.6313725490196,117.93300492610838,113.509375,118.13650793650794,99.187675070028,118.96138996138995,108.97242380261248,135.95555555555555,121.89221556886227,134.1216216216216,null,125.92454728370221,131.16871704745168,132.7792207792208,143.8242574257426,null],\"type\":\"scatter\",\"xaxis\":\"x\",\"yaxis\":\"y\"},{\"name\":\"Altitude\",\"x\":[\"August 01, 2019\",\"August 02, 2019\",\"August 03, 2019\",\"August 04, 2019\",\"August 05, 2019\",\"August 06, 2019\",\"August 07, 2019\",\"August 08, 2019\",\"August 09, 2019\",\"August 10, 2019\",\"August 11, 2019\",\"August 12, 2019\",\"August 14, 2019\",\"August 17, 2019\",\"August 18, 2019\",\"August 20, 2019\",\"August 21, 2019\",\"August 23, 2019\",\"August 24, 2019\",\"August 28, 2019\",\"August 31, 2019\",\"July 08, 2019\",\"July 10, 2019\",\"July 12, 2019\",\"July 14, 2019\",\"July 16, 2019\",\"July 17, 2019\",\"July 18, 2019\",\"July 20, 2019\",\"July 21, 2019\",\"July 22, 2019\",\"July 23, 2019\",\"July 24, 2019\",\"July 25, 2019\",\"July 26, 2019\",\"July 27, 2019\",\"July 28, 2019\",\"July 29, 2019\",\"July 30, 2019\",\"July 31, 2019\",\"October 03, 2019\",\"September 12, 2019\",\"September 14, 2019\",\"September 15, 2019\",\"September 16, 2019\",\"September 23, 2019\",\"September 25, 2019\",\"September 28, 2019\",\"September 30, 2019\"],\"y\":[276.4656370656371,456.40176991150446,265.90999999999997,262.4854368932039,262.1330357142857,268.1915254237288,250.73220338983052,262.89086161879897,287.1753191489362,295.13317535545025,241.18912529550826,250.1077922077922,287.341309255079,306.703776683087,258.4810226155359,249.1774772777655,294.46119920713573,289.964909520063,271.64707692307695,269.11588089330024,293.3093049327354,264.6074074074074,255.32808988764046,270.9510428100988,274.33166666666665,261.97751479289946,255.3988603988604,269.48200537153093,271.2366666666667,270.05227272727274,278.2055555555555,305.71931818181815,272.39895470383277,259.3411764705882,248.27802955665027,270.8836477987421,240.8152380952381,294.4453781512605,259.86563706563703,259.28795355587806,258.2528735632184,252.1764471057884,257.97191719171917,268.5341176470588,252.72287712287712,264.360632688928,261.3780548628429,255.34851485148516,259.95592417061613],\"type\":\"scatter\",\"xaxis\":\"x2\",\"yaxis\":\"y2\"},{\"name\":\"Speed\",\"x\":[\"August 01, 2019\",\"August 02, 2019\",\"August 03, 2019\",\"August 04, 2019\",\"August 05, 2019\",\"August 06, 2019\",\"August 07, 2019\",\"August 08, 2019\",\"August 09, 2019\",\"August 10, 2019\",\"August 11, 2019\",\"August 12, 2019\",\"August 14, 2019\",\"August 17, 2019\",\"August 18, 2019\",\"August 20, 2019\",\"August 21, 2019\",\"August 23, 2019\",\"August 24, 2019\",\"August 28, 2019\",\"August 31, 2019\",\"July 08, 2019\",\"July 10, 2019\",\"July 12, 2019\",\"July 14, 2019\",\"July 16, 2019\",\"July 17, 2019\",\"July 18, 2019\",\"July 20, 2019\",\"July 21, 2019\",\"July 22, 2019\",\"July 23, 2019\",\"July 24, 2019\",\"July 25, 2019\",\"July 26, 2019\",\"July 27, 2019\",\"July 28, 2019\",\"July 29, 2019\",\"July 30, 2019\",\"July 31, 2019\",\"October 03, 2019\",\"September 12, 2019\",\"September 14, 2019\",\"September 15, 2019\",\"September 16, 2019\",\"September 23, 2019\",\"September 25, 2019\",\"September 28, 2019\",\"September 30, 2019\"],\"y\":[2.361760617760618,2.0291061946902653,2.3960818181818184,2.0504745145631067,2.2610357142857143,2.2266610169491523,2.567081355932203,1.7195483028720626,2.207374468085106,2.623632701421801,2.6528250591016547,2.2404935064935065,2.3966444444444446,2.7575801860974276,2.496084562438545,2.2349527820882287,2.5255645320197044,2.356642014162077,2.238753076923077,2.6214776674937967,2.8227180493273543,2.0881544715447156,2.581567415730337,1.966211855104281,1.845992361111111,2.3804117647058822,2.346354285714286,1.7372285714285713,1.7942621212121213,2.3383933823529413,2.4162777777777777,2.3076789772727273,2.158751304347826,1.8675725490196078,1.954671921182266,1.984561128526646,2.1622761904761902,1.6760364145658264,2.0678050193050193,2.023512336719884,6.592298312883435,5.010059880239521,6.471152115211521,5.543096078431372,6.365662337662338,5.903937943262411,5.510255195344971,7.069992574257426,6.54738625592417],\"type\":\"scatter\",\"xaxis\":\"x3\",\"yaxis\":\"y3\"}],                        {\"template\":{\"data\":{\"histogram2dcontour\":[{\"type\":\"histogram2dcontour\",\"colorbar\":{\"outlinewidth\":0,\"ticks\":\"\"},\"colorscale\":[[0.0,\"#0d0887\"],[0.1111111111111111,\"#46039f\"],[0.2222222222222222,\"#7201a8\"],[0.3333333333333333,\"#9c179e\"],[0.4444444444444444,\"#bd3786\"],[0.5555555555555556,\"#d8576b\"],[0.6666666666666666,\"#ed7953\"],[0.7777777777777778,\"#fb9f3a\"],[0.8888888888888888,\"#fdca26\"],[1.0,\"#f0f921\"]]}],\"choropleth\":[{\"type\":\"choropleth\",\"colorbar\":{\"outlinewidth\":0,\"ticks\":\"\"}}],\"histogram2d\":[{\"type\":\"histogram2d\",\"colorbar\":{\"outlinewidth\":0,\"ticks\":\"\"},\"colorscale\":[[0.0,\"#0d0887\"],[0.1111111111111111,\"#46039f\"],[0.2222222222222222,\"#7201a8\"],[0.3333333333333333,\"#9c179e\"],[0.4444444444444444,\"#bd3786\"],[0.5555555555555556,\"#d8576b\"],[0.6666666666666666,\"#ed7953\"],[0.7777777777777778,\"#fb9f3a\"],[0.8888888888888888,\"#fdca26\"],[1.0,\"#f0f921\"]]}],\"heatmap\":[{\"type\":\"heatmap\",\"colorbar\":{\"outlinewidth\":0,\"ticks\":\"\"},\"colorscale\":[[0.0,\"#0d0887\"],[0.1111111111111111,\"#46039f\"],[0.2222222222222222,\"#7201a8\"],[0.3333333333333333,\"#9c179e\"],[0.4444444444444444,\"#bd3786\"],[0.5555555555555556,\"#d8576b\"],[0.6666666666666666,\"#ed7953\"],[0.7777777777777778,\"#fb9f3a\"],[0.8888888888888888,\"#fdca26\"],[1.0,\"#f0f921\"]]}],\"heatmapgl\":[{\"type\":\"heatmapgl\",\"colorbar\":{\"outlinewidth\":0,\"ticks\":\"\"},\"colorscale\":[[0.0,\"#0d0887\"],[0.1111111111111111,\"#46039f\"],[0.2222222222222222,\"#7201a8\"],[0.3333333333333333,\"#9c179e\"],[0.4444444444444444,\"#bd3786\"],[0.5555555555555556,\"#d8576b\"],[0.6666666666666666,\"#ed7953\"],[0.7777777777777778,\"#fb9f3a\"],[0.8888888888888888,\"#fdca26\"],[1.0,\"#f0f921\"]]}],\"contourcarpet\":[{\"type\":\"contourcarpet\",\"colorbar\":{\"outlinewidth\":0,\"ticks\":\"\"}}],\"contour\":[{\"type\":\"contour\",\"colorbar\":{\"outlinewidth\":0,\"ticks\":\"\"},\"colorscale\":[[0.0,\"#0d0887\"],[0.1111111111111111,\"#46039f\"],[0.2222222222222222,\"#7201a8\"],[0.3333333333333333,\"#9c179e\"],[0.4444444444444444,\"#bd3786\"],[0.5555555555555556,\"#d8576b\"],[0.6666666666666666,\"#ed7953\"],[0.7777777777777778,\"#fb9f3a\"],[0.8888888888888888,\"#fdca26\"],[1.0,\"#f0f921\"]]}],\"surface\":[{\"type\":\"surface\",\"colorbar\":{\"outlinewidth\":0,\"ticks\":\"\"},\"colorscale\":[[0.0,\"#0d0887\"],[0.1111111111111111,\"#46039f\"],[0.2222222222222222,\"#7201a8\"],[0.3333333333333333,\"#9c179e\"],[0.4444444444444444,\"#bd3786\"],[0.5555555555555556,\"#d8576b\"],[0.6666666666666666,\"#ed7953\"],[0.7777777777777778,\"#fb9f3a\"],[0.8888888888888888,\"#fdca26\"],[1.0,\"#f0f921\"]]}],\"mesh3d\":[{\"type\":\"mesh3d\",\"colorbar\":{\"outlinewidth\":0,\"ticks\":\"\"}}],\"scatter\":[{\"fillpattern\":{\"fillmode\":\"overlay\",\"size\":10,\"solidity\":0.2},\"type\":\"scatter\"}],\"parcoords\":[{\"type\":\"parcoords\",\"line\":{\"colorbar\":{\"outlinewidth\":0,\"ticks\":\"\"}}}],\"scatterpolargl\":[{\"type\":\"scatterpolargl\",\"marker\":{\"colorbar\":{\"outlinewidth\":0,\"ticks\":\"\"}}}],\"bar\":[{\"error_x\":{\"color\":\"#2a3f5f\"},\"error_y\":{\"color\":\"#2a3f5f\"},\"marker\":{\"line\":{\"color\":\"#E5ECF6\",\"width\":0.5},\"pattern\":{\"fillmode\":\"overlay\",\"size\":10,\"solidity\":0.2}},\"type\":\"bar\"}],\"scattergeo\":[{\"type\":\"scattergeo\",\"marker\":{\"colorbar\":{\"outlinewidth\":0,\"ticks\":\"\"}}}],\"scatterpolar\":[{\"type\":\"scatterpolar\",\"marker\":{\"colorbar\":{\"outlinewidth\":0,\"ticks\":\"\"}}}],\"histogram\":[{\"marker\":{\"pattern\":{\"fillmode\":\"overlay\",\"size\":10,\"solidity\":0.2}},\"type\":\"histogram\"}],\"scattergl\":[{\"type\":\"scattergl\",\"marker\":{\"colorbar\":{\"outlinewidth\":0,\"ticks\":\"\"}}}],\"scatter3d\":[{\"type\":\"scatter3d\",\"line\":{\"colorbar\":{\"outlinewidth\":0,\"ticks\":\"\"}},\"marker\":{\"colorbar\":{\"outlinewidth\":0,\"ticks\":\"\"}}}],\"scattermapbox\":[{\"type\":\"scattermapbox\",\"marker\":{\"colorbar\":{\"outlinewidth\":0,\"ticks\":\"\"}}}],\"scatterternary\":[{\"type\":\"scatterternary\",\"marker\":{\"colorbar\":{\"outlinewidth\":0,\"ticks\":\"\"}}}],\"scattercarpet\":[{\"type\":\"scattercarpet\",\"marker\":{\"colorbar\":{\"outlinewidth\":0,\"ticks\":\"\"}}}],\"carpet\":[{\"aaxis\":{\"endlinecolor\":\"#2a3f5f\",\"gridcolor\":\"white\",\"linecolor\":\"white\",\"minorgridcolor\":\"white\",\"startlinecolor\":\"#2a3f5f\"},\"baxis\":{\"endlinecolor\":\"#2a3f5f\",\"gridcolor\":\"white\",\"linecolor\":\"white\",\"minorgridcolor\":\"white\",\"startlinecolor\":\"#2a3f5f\"},\"type\":\"carpet\"}],\"table\":[{\"cells\":{\"fill\":{\"color\":\"#EBF0F8\"},\"line\":{\"color\":\"white\"}},\"header\":{\"fill\":{\"color\":\"#C8D4E3\"},\"line\":{\"color\":\"white\"}},\"type\":\"table\"}],\"barpolar\":[{\"marker\":{\"line\":{\"color\":\"#E5ECF6\",\"width\":0.5},\"pattern\":{\"fillmode\":\"overlay\",\"size\":10,\"solidity\":0.2}},\"type\":\"barpolar\"}],\"pie\":[{\"automargin\":true,\"type\":\"pie\"}]},\"layout\":{\"autotypenumbers\":\"strict\",\"colorway\":[\"#636efa\",\"#EF553B\",\"#00cc96\",\"#ab63fa\",\"#FFA15A\",\"#19d3f3\",\"#FF6692\",\"#B6E880\",\"#FF97FF\",\"#FECB52\"],\"font\":{\"color\":\"#2a3f5f\"},\"hovermode\":\"closest\",\"hoverlabel\":{\"align\":\"left\"},\"paper_bgcolor\":\"white\",\"plot_bgcolor\":\"#E5ECF6\",\"polar\":{\"bgcolor\":\"#E5ECF6\",\"angularaxis\":{\"gridcolor\":\"white\",\"linecolor\":\"white\",\"ticks\":\"\"},\"radialaxis\":{\"gridcolor\":\"white\",\"linecolor\":\"white\",\"ticks\":\"\"}},\"ternary\":{\"bgcolor\":\"#E5ECF6\",\"aaxis\":{\"gridcolor\":\"white\",\"linecolor\":\"white\",\"ticks\":\"\"},\"baxis\":{\"gridcolor\":\"white\",\"linecolor\":\"white\",\"ticks\":\"\"},\"caxis\":{\"gridcolor\":\"white\",\"linecolor\":\"white\",\"ticks\":\"\"}},\"coloraxis\":{\"colorbar\":{\"outlinewidth\":0,\"ticks\":\"\"}},\"colorscale\":{\"sequential\":[[0.0,\"#0d0887\"],[0.1111111111111111,\"#46039f\"],[0.2222222222222222,\"#7201a8\"],[0.3333333333333333,\"#9c179e\"],[0.4444444444444444,\"#bd3786\"],[0.5555555555555556,\"#d8576b\"],[0.6666666666666666,\"#ed7953\"],[0.7777777777777778,\"#fb9f3a\"],[0.8888888888888888,\"#fdca26\"],[1.0,\"#f0f921\"]],\"sequentialminus\":[[0.0,\"#0d0887\"],[0.1111111111111111,\"#46039f\"],[0.2222222222222222,\"#7201a8\"],[0.3333333333333333,\"#9c179e\"],[0.4444444444444444,\"#bd3786\"],[0.5555555555555556,\"#d8576b\"],[0.6666666666666666,\"#ed7953\"],[0.7777777777777778,\"#fb9f3a\"],[0.8888888888888888,\"#fdca26\"],[1.0,\"#f0f921\"]],\"diverging\":[[0,\"#8e0152\"],[0.1,\"#c51b7d\"],[0.2,\"#de77ae\"],[0.3,\"#f1b6da\"],[0.4,\"#fde0ef\"],[0.5,\"#f7f7f7\"],[0.6,\"#e6f5d0\"],[0.7,\"#b8e186\"],[0.8,\"#7fbc41\"],[0.9,\"#4d9221\"],[1,\"#276419\"]]},\"xaxis\":{\"gridcolor\":\"white\",\"linecolor\":\"white\",\"ticks\":\"\",\"title\":{\"standoff\":15},\"zerolinecolor\":\"white\",\"automargin\":true,\"zerolinewidth\":2},\"yaxis\":{\"gridcolor\":\"white\",\"linecolor\":\"white\",\"ticks\":\"\",\"title\":{\"standoff\":15},\"zerolinecolor\":\"white\",\"automargin\":true,\"zerolinewidth\":2},\"scene\":{\"xaxis\":{\"backgroundcolor\":\"#E5ECF6\",\"gridcolor\":\"white\",\"linecolor\":\"white\",\"showbackground\":true,\"ticks\":\"\",\"zerolinecolor\":\"white\",\"gridwidth\":2},\"yaxis\":{\"backgroundcolor\":\"#E5ECF6\",\"gridcolor\":\"white\",\"linecolor\":\"white\",\"showbackground\":true,\"ticks\":\"\",\"zerolinecolor\":\"white\",\"gridwidth\":2},\"zaxis\":{\"backgroundcolor\":\"#E5ECF6\",\"gridcolor\":\"white\",\"linecolor\":\"white\",\"showbackground\":true,\"ticks\":\"\",\"zerolinecolor\":\"white\",\"gridwidth\":2}},\"shapedefaults\":{\"line\":{\"color\":\"#2a3f5f\"}},\"annotationdefaults\":{\"arrowcolor\":\"#2a3f5f\",\"arrowhead\":0,\"arrowwidth\":1},\"geo\":{\"bgcolor\":\"white\",\"landcolor\":\"#E5ECF6\",\"subunitcolor\":\"white\",\"showland\":true,\"showlakes\":true,\"lakecolor\":\"white\"},\"title\":{\"x\":0.05},\"mapbox\":{\"style\":\"light\"}}},\"xaxis\":{\"anchor\":\"y\",\"domain\":[0.0,1.0],\"matches\":\"x3\",\"showticklabels\":false,\"tickangle\":-45},\"yaxis\":{\"anchor\":\"x\",\"domain\":[0.7333333333333333,1.0],\"title\":{\"text\":\"Heart Rate (bpm)\"}},\"xaxis2\":{\"anchor\":\"y2\",\"domain\":[0.0,1.0],\"matches\":\"x3\",\"showticklabels\":false,\"tickangle\":-45},\"yaxis2\":{\"anchor\":\"x2\",\"domain\":[0.36666666666666664,0.6333333333333333],\"title\":{\"text\":\"Altitude (meters)\"}},\"xaxis3\":{\"anchor\":\"y3\",\"domain\":[0.0,1.0],\"tickangle\":-45},\"yaxis3\":{\"anchor\":\"x3\",\"domain\":[0.0,0.26666666666666666],\"title\":{\"text\":\"Speed (meters\\u002fsec)\"}},\"title\":{\"text\":\"Heart Rate vs Altitude vs Speed\\u003cbr\\u003e\\u003csup\\u003eMeans per Day\\u003c\\u002fsup\\u003e\",\"x\":0.5,\"xanchor\":\"center\",\"yanchor\":\"top\"},\"height\":800},                        {\"responsive\": true}                    ).then(function(){\n",
       "                            \n",
       "var gd = document.getElementById('4819fc4a-715f-4f85-a081-10894a40a2ce');\n",
       "var x = new MutationObserver(function (mutations, observer) {{\n",
       "        var display = window.getComputedStyle(gd).display;\n",
       "        if (!display || display === 'none') {{\n",
       "            console.log([gd, 'removed!']);\n",
       "            Plotly.purge(gd);\n",
       "            observer.disconnect();\n",
       "        }}\n",
       "}});\n",
       "\n",
       "// Listen for the removal of the full notebook cells\n",
       "var notebookContainer = gd.closest('#notebook-container');\n",
       "if (notebookContainer) {{\n",
       "    x.observe(notebookContainer, {childList: true});\n",
       "}}\n",
       "\n",
       "// Listen for the clearing of the current output cell\n",
       "var outputEl = gd.closest('.output');\n",
       "if (outputEl) {{\n",
       "    x.observe(outputEl, {childList: true});\n",
       "}}\n",
       "\n",
       "                        })                };                });            </script>        </div>"
      ]
     },
     "metadata": {},
     "output_type": "display_data"
    }
   ],
   "source": [
    "fig = make_subplots(rows=3, cols=1, shared_xaxes=True)\n",
    "fig.add_trace(go.Scatter(x=df_means['day'], y=df_means['heart_rate'], name='Heart Rate'), row=1, col=1)\n",
    "fig.add_trace(go.Scatter(x=df_means['day'], y=df_means['enhanced_altitude'], name='Altitude'), row=2, col=1)\n",
    "fig.add_trace(go.Scatter(x=df_means['day'], y=df_means['enhanced_speed'], name='Speed'), row=3, col=1)\n",
    "\n",
    "fig.update_yaxes(title_text='Heart Rate (bpm)', row=1, col=1)\n",
    "fig.update_yaxes(title_text='Altitude (meters)', row=2, col=1)\n",
    "fig.update_yaxes(title_text='Speed (meters/sec)', row=3, col=1)\n",
    "fig.update_xaxes(tickangle=-45)\n",
    "\n",
    "fig.update_layout(height=800, title={\n",
    "        'text': f\"Heart Rate vs Altitude vs Speed<br><sup>Means per Day</sup>\",\n",
    "        'x':0.5,\n",
    "        'xanchor': 'center',\n",
    "        'yanchor': 'top'\n",
    "    }) \n",
    "\n",
    "fig.show()"
   ]
  },
  {
   "cell_type": "markdown",
   "id": "ea6d4053-8bae-4010-84ef-a06f374b3177",
   "metadata": {},
   "source": [
    "The three stacked line charts show me that heart rate, altitude, and speed often are related. Looking specifically at the increases on August 10th, August 17th, August 21st, and August 31st, all three factors are elevated. The ups and downs of the lines are similar in all three charts. There is also an uptick in speed and heart rate in September.One outlier from the pattern is on August 2nd when the altitude is abnormally high, but the speed and heart rate readings are lower. While this data is not conclusive on the relationship between the three, there is enough of a relationship in this dataset that a viewer can see similar patterns with the naked eye. The hover ability of the charts allows the user to confirm measurements of exact data points. "
   ]
  },
  {
   "cell_type": "markdown",
   "id": "93600392-8d2e-4b11-be66-42c55ab4933e",
   "metadata": {},
   "source": [
    "## Does Starting & Ending Heart Rate Difference Decrease Over Time?"
   ]
  },
  {
   "cell_type": "markdown",
   "id": "6acb93f7-fa00-4960-b4c0-d0793f85b65a",
   "metadata": {},
   "source": [
    "A persons heart rate is different when resting and when exercising. The heart rate is lower at rest and increases with intensity of physical exertion. My hypothesis is that as Professor Brookes becomes more accustomed to exercising and betters his cardiovascular health, the difference between his resting and active heart rates will decrease. I grouped the data by datafile, because it seemed to me that each datafile was a different fitness event. The previous chart the readings grouped by day, but this could mean that Professor Brookes recovered and started another fitness event in the same day and that would skew my results, so I narrowed it down to each event. A few events did not have heart rate data, so they were excluded, but I don't think there was enough missing data to compromise the integrity of the visualization."
   ]
  },
  {
   "cell_type": "code",
   "execution_count": 75,
   "id": "9824547a-54be-4915-80f9-c1686533b69b",
   "metadata": {},
   "outputs": [
    {
     "data": {
      "text/html": [
       "<div>\n",
       "<style scoped>\n",
       "    .dataframe tbody tr th:only-of-type {\n",
       "        vertical-align: middle;\n",
       "    }\n",
       "\n",
       "    .dataframe tbody tr th {\n",
       "        vertical-align: top;\n",
       "    }\n",
       "\n",
       "    .dataframe thead th {\n",
       "        text-align: right;\n",
       "    }\n",
       "</style>\n",
       "<table border=\"1\" class=\"dataframe\">\n",
       "  <thead>\n",
       "    <tr style=\"text-align: right;\">\n",
       "      <th></th>\n",
       "      <th>Fitness Event</th>\n",
       "      <th>Starting/Ending Heart Rate</th>\n",
       "      <th>Heart Rate</th>\n",
       "    </tr>\n",
       "  </thead>\n",
       "  <tbody>\n",
       "    <tr>\n",
       "      <th>0</th>\n",
       "      <td>Fitness Event 1</td>\n",
       "      <td>Starting Heart Rate</td>\n",
       "      <td>68.0</td>\n",
       "    </tr>\n",
       "    <tr>\n",
       "      <th>1</th>\n",
       "      <td>Fitness Event 2</td>\n",
       "      <td>Starting Heart Rate</td>\n",
       "      <td>71.0</td>\n",
       "    </tr>\n",
       "    <tr>\n",
       "      <th>2</th>\n",
       "      <td>Fitness Event 3</td>\n",
       "      <td>Starting Heart Rate</td>\n",
       "      <td>121.0</td>\n",
       "    </tr>\n",
       "    <tr>\n",
       "      <th>3</th>\n",
       "      <td>Fitness Event 4</td>\n",
       "      <td>Starting Heart Rate</td>\n",
       "      <td>124.0</td>\n",
       "    </tr>\n",
       "    <tr>\n",
       "      <th>4</th>\n",
       "      <td>Fitness Event 5</td>\n",
       "      <td>Starting Heart Rate</td>\n",
       "      <td>73.0</td>\n",
       "    </tr>\n",
       "  </tbody>\n",
       "</table>\n",
       "</div>"
      ],
      "text/plain": [
       "     Fitness Event Starting/Ending Heart Rate  Heart Rate\n",
       "0  Fitness Event 1        Starting Heart Rate        68.0\n",
       "1  Fitness Event 2        Starting Heart Rate        71.0\n",
       "2  Fitness Event 3        Starting Heart Rate       121.0\n",
       "3  Fitness Event 4        Starting Heart Rate       124.0\n",
       "4  Fitness Event 5        Starting Heart Rate        73.0"
      ]
     },
     "execution_count": 75,
     "metadata": {},
     "output_type": "execute_result"
    }
   ],
   "source": [
    "df_hr_start = df[['datafile', 'heart_rate']]\n",
    "df_hr_end = df[['datafile', 'heart_rate']]\n",
    "df_hr_start = df_hr_start.groupby('datafile')['heart_rate'].first().reset_index()                \n",
    "df_hr_end = df_hr_end.groupby('datafile')['heart_rate'].last().reset_index()\n",
    "df_hr = pd.merge(df_hr_start, df_hr_end, on='datafile')\n",
    "rename_map = {file: f'Fitness Event {i+1}' for i, file in enumerate(df_hr['datafile'])}\n",
    "df_hr['datafile'] = df_hr['datafile'].map(rename_map)\n",
    "df_hr = df_hr.rename(columns={'heart_rate_x' : 'Starting Heart Rate', 'heart_rate_y' : 'Ending Heart Rate', 'datafile' : 'Fitness Event'})\n",
    "df_hr = pd.melt(df_hr, id_vars=['Fitness Event'], value_vars=['Starting Heart Rate', 'Ending Heart Rate'], var_name='Starting/Ending Heart Rate', value_name='Heart Rate')\n",
    "df_hr = df_hr.dropna()\n",
    "df_hr.head(5)\n",
    "\n"
   ]
  },
  {
   "cell_type": "code",
   "execution_count": 81,
   "id": "d27d3426-b021-4e31-b00a-fe5099f919b9",
   "metadata": {},
   "outputs": [
    {
     "data": {
      "application/vnd.plotly.v1+json": {
       "config": {
        "plotlyServerURL": "https://plot.ly"
       },
       "data": [
        {
         "alignmentgroup": "True",
         "hovertemplate": "Starting/Ending Heart Rate=Starting Heart Rate<br>Fitness Event=%{x}<br>Heart Rate=%{y}<extra></extra>",
         "legendgroup": "Starting Heart Rate",
         "marker": {
          "color": "#85cc6f",
          "pattern": {
           "shape": ""
          }
         },
         "name": "Starting Heart Rate",
         "offsetgroup": "Starting Heart Rate",
         "orientation": "v",
         "showlegend": true,
         "textposition": "auto",
         "type": "bar",
         "x": [
          "Fitness Event 1",
          "Fitness Event 2",
          "Fitness Event 3",
          "Fitness Event 4",
          "Fitness Event 5",
          "Fitness Event 6",
          "Fitness Event 7",
          "Fitness Event 8",
          "Fitness Event 9",
          "Fitness Event 10",
          "Fitness Event 11",
          "Fitness Event 12",
          "Fitness Event 13",
          "Fitness Event 14",
          "Fitness Event 15",
          "Fitness Event 16",
          "Fitness Event 17",
          "Fitness Event 18",
          "Fitness Event 19",
          "Fitness Event 20",
          "Fitness Event 21",
          "Fitness Event 22",
          "Fitness Event 23",
          "Fitness Event 24",
          "Fitness Event 25",
          "Fitness Event 26",
          "Fitness Event 27",
          "Fitness Event 28",
          "Fitness Event 29",
          "Fitness Event 30",
          "Fitness Event 31",
          "Fitness Event 32",
          "Fitness Event 33",
          "Fitness Event 34",
          "Fitness Event 35",
          "Fitness Event 36",
          "Fitness Event 37",
          "Fitness Event 38",
          "Fitness Event 39",
          "Fitness Event 40",
          "Fitness Event 41",
          "Fitness Event 42",
          "Fitness Event 43",
          "Fitness Event 44",
          "Fitness Event 45",
          "Fitness Event 46",
          "Fitness Event 47",
          "Fitness Event 48",
          "Fitness Event 49",
          "Fitness Event 50",
          "Fitness Event 51",
          "Fitness Event 52",
          "Fitness Event 53",
          "Fitness Event 54",
          "Fitness Event 57",
          "Fitness Event 58",
          "Fitness Event 61",
          "Fitness Event 62",
          "Fitness Event 64"
         ],
         "xaxis": "x",
         "y": [
          68,
          71,
          121,
          124,
          73,
          103,
          86,
          72,
          85,
          80,
          102,
          82,
          79,
          63,
          97,
          78,
          73,
          131,
          89,
          74,
          91,
          86,
          65,
          80,
          57,
          56,
          61,
          72,
          74,
          83,
          108,
          82,
          73,
          69,
          131,
          109,
          75,
          94,
          87,
          93,
          77,
          101,
          75,
          89,
          106,
          97,
          119,
          85,
          72,
          78,
          86,
          105,
          110,
          112,
          131,
          90,
          89,
          140,
          92
         ],
         "yaxis": "y"
        },
        {
         "alignmentgroup": "True",
         "hovertemplate": "Starting/Ending Heart Rate=Ending Heart Rate<br>Fitness Event=%{x}<br>Heart Rate=%{y}<extra></extra>",
         "legendgroup": "Ending Heart Rate",
         "marker": {
          "color": "#355c7d",
          "pattern": {
           "shape": ""
          }
         },
         "name": "Ending Heart Rate",
         "offsetgroup": "Ending Heart Rate",
         "orientation": "v",
         "showlegend": true,
         "textposition": "auto",
         "type": "bar",
         "x": [
          "Fitness Event 1",
          "Fitness Event 2",
          "Fitness Event 3",
          "Fitness Event 4",
          "Fitness Event 5",
          "Fitness Event 6",
          "Fitness Event 7",
          "Fitness Event 8",
          "Fitness Event 9",
          "Fitness Event 10",
          "Fitness Event 11",
          "Fitness Event 12",
          "Fitness Event 13",
          "Fitness Event 14",
          "Fitness Event 15",
          "Fitness Event 16",
          "Fitness Event 17",
          "Fitness Event 18",
          "Fitness Event 19",
          "Fitness Event 20",
          "Fitness Event 21",
          "Fitness Event 22",
          "Fitness Event 23",
          "Fitness Event 24",
          "Fitness Event 25",
          "Fitness Event 26",
          "Fitness Event 27",
          "Fitness Event 28",
          "Fitness Event 29",
          "Fitness Event 30",
          "Fitness Event 31",
          "Fitness Event 32",
          "Fitness Event 33",
          "Fitness Event 34",
          "Fitness Event 35",
          "Fitness Event 36",
          "Fitness Event 37",
          "Fitness Event 38",
          "Fitness Event 39",
          "Fitness Event 40",
          "Fitness Event 41",
          "Fitness Event 42",
          "Fitness Event 43",
          "Fitness Event 44",
          "Fitness Event 45",
          "Fitness Event 46",
          "Fitness Event 47",
          "Fitness Event 48",
          "Fitness Event 49",
          "Fitness Event 50",
          "Fitness Event 51",
          "Fitness Event 52",
          "Fitness Event 53",
          "Fitness Event 54",
          "Fitness Event 57",
          "Fitness Event 58",
          "Fitness Event 61",
          "Fitness Event 62",
          "Fitness Event 64"
         ],
         "xaxis": "x",
         "y": [
          132,
          136,
          142,
          137,
          119,
          122,
          124,
          119,
          128,
          133,
          127,
          86,
          106,
          120,
          141,
          140,
          139,
          139,
          106,
          132,
          132,
          121,
          96,
          130,
          111,
          93,
          118,
          143,
          109,
          143,
          135,
          138,
          145,
          149,
          166,
          148,
          142,
          163,
          165,
          140,
          154,
          180,
          149,
          151,
          156,
          155,
          164,
          135,
          139,
          157,
          169,
          126,
          123,
          112,
          110,
          133,
          133,
          142,
          135
         ],
         "yaxis": "y"
        }
       ],
       "layout": {
        "barmode": "group",
        "height": 600,
        "legend": {
         "title": {
          "text": "Starting/Ending Heart Rate"
         },
         "tracegroupgap": 0
        },
        "margin": {
         "t": 60
        },
        "template": {
         "data": {
          "bar": [
           {
            "error_x": {
             "color": "#2a3f5f"
            },
            "error_y": {
             "color": "#2a3f5f"
            },
            "marker": {
             "line": {
              "color": "#E5ECF6",
              "width": 0.5
             },
             "pattern": {
              "fillmode": "overlay",
              "size": 10,
              "solidity": 0.2
             }
            },
            "type": "bar"
           }
          ],
          "barpolar": [
           {
            "marker": {
             "line": {
              "color": "#E5ECF6",
              "width": 0.5
             },
             "pattern": {
              "fillmode": "overlay",
              "size": 10,
              "solidity": 0.2
             }
            },
            "type": "barpolar"
           }
          ],
          "carpet": [
           {
            "aaxis": {
             "endlinecolor": "#2a3f5f",
             "gridcolor": "white",
             "linecolor": "white",
             "minorgridcolor": "white",
             "startlinecolor": "#2a3f5f"
            },
            "baxis": {
             "endlinecolor": "#2a3f5f",
             "gridcolor": "white",
             "linecolor": "white",
             "minorgridcolor": "white",
             "startlinecolor": "#2a3f5f"
            },
            "type": "carpet"
           }
          ],
          "choropleth": [
           {
            "colorbar": {
             "outlinewidth": 0,
             "ticks": ""
            },
            "type": "choropleth"
           }
          ],
          "contour": [
           {
            "colorbar": {
             "outlinewidth": 0,
             "ticks": ""
            },
            "colorscale": [
             [
              0,
              "#0d0887"
             ],
             [
              0.1111111111111111,
              "#46039f"
             ],
             [
              0.2222222222222222,
              "#7201a8"
             ],
             [
              0.3333333333333333,
              "#9c179e"
             ],
             [
              0.4444444444444444,
              "#bd3786"
             ],
             [
              0.5555555555555556,
              "#d8576b"
             ],
             [
              0.6666666666666666,
              "#ed7953"
             ],
             [
              0.7777777777777778,
              "#fb9f3a"
             ],
             [
              0.8888888888888888,
              "#fdca26"
             ],
             [
              1,
              "#f0f921"
             ]
            ],
            "type": "contour"
           }
          ],
          "contourcarpet": [
           {
            "colorbar": {
             "outlinewidth": 0,
             "ticks": ""
            },
            "type": "contourcarpet"
           }
          ],
          "heatmap": [
           {
            "colorbar": {
             "outlinewidth": 0,
             "ticks": ""
            },
            "colorscale": [
             [
              0,
              "#0d0887"
             ],
             [
              0.1111111111111111,
              "#46039f"
             ],
             [
              0.2222222222222222,
              "#7201a8"
             ],
             [
              0.3333333333333333,
              "#9c179e"
             ],
             [
              0.4444444444444444,
              "#bd3786"
             ],
             [
              0.5555555555555556,
              "#d8576b"
             ],
             [
              0.6666666666666666,
              "#ed7953"
             ],
             [
              0.7777777777777778,
              "#fb9f3a"
             ],
             [
              0.8888888888888888,
              "#fdca26"
             ],
             [
              1,
              "#f0f921"
             ]
            ],
            "type": "heatmap"
           }
          ],
          "heatmapgl": [
           {
            "colorbar": {
             "outlinewidth": 0,
             "ticks": ""
            },
            "colorscale": [
             [
              0,
              "#0d0887"
             ],
             [
              0.1111111111111111,
              "#46039f"
             ],
             [
              0.2222222222222222,
              "#7201a8"
             ],
             [
              0.3333333333333333,
              "#9c179e"
             ],
             [
              0.4444444444444444,
              "#bd3786"
             ],
             [
              0.5555555555555556,
              "#d8576b"
             ],
             [
              0.6666666666666666,
              "#ed7953"
             ],
             [
              0.7777777777777778,
              "#fb9f3a"
             ],
             [
              0.8888888888888888,
              "#fdca26"
             ],
             [
              1,
              "#f0f921"
             ]
            ],
            "type": "heatmapgl"
           }
          ],
          "histogram": [
           {
            "marker": {
             "pattern": {
              "fillmode": "overlay",
              "size": 10,
              "solidity": 0.2
             }
            },
            "type": "histogram"
           }
          ],
          "histogram2d": [
           {
            "colorbar": {
             "outlinewidth": 0,
             "ticks": ""
            },
            "colorscale": [
             [
              0,
              "#0d0887"
             ],
             [
              0.1111111111111111,
              "#46039f"
             ],
             [
              0.2222222222222222,
              "#7201a8"
             ],
             [
              0.3333333333333333,
              "#9c179e"
             ],
             [
              0.4444444444444444,
              "#bd3786"
             ],
             [
              0.5555555555555556,
              "#d8576b"
             ],
             [
              0.6666666666666666,
              "#ed7953"
             ],
             [
              0.7777777777777778,
              "#fb9f3a"
             ],
             [
              0.8888888888888888,
              "#fdca26"
             ],
             [
              1,
              "#f0f921"
             ]
            ],
            "type": "histogram2d"
           }
          ],
          "histogram2dcontour": [
           {
            "colorbar": {
             "outlinewidth": 0,
             "ticks": ""
            },
            "colorscale": [
             [
              0,
              "#0d0887"
             ],
             [
              0.1111111111111111,
              "#46039f"
             ],
             [
              0.2222222222222222,
              "#7201a8"
             ],
             [
              0.3333333333333333,
              "#9c179e"
             ],
             [
              0.4444444444444444,
              "#bd3786"
             ],
             [
              0.5555555555555556,
              "#d8576b"
             ],
             [
              0.6666666666666666,
              "#ed7953"
             ],
             [
              0.7777777777777778,
              "#fb9f3a"
             ],
             [
              0.8888888888888888,
              "#fdca26"
             ],
             [
              1,
              "#f0f921"
             ]
            ],
            "type": "histogram2dcontour"
           }
          ],
          "mesh3d": [
           {
            "colorbar": {
             "outlinewidth": 0,
             "ticks": ""
            },
            "type": "mesh3d"
           }
          ],
          "parcoords": [
           {
            "line": {
             "colorbar": {
              "outlinewidth": 0,
              "ticks": ""
             }
            },
            "type": "parcoords"
           }
          ],
          "pie": [
           {
            "automargin": true,
            "type": "pie"
           }
          ],
          "scatter": [
           {
            "fillpattern": {
             "fillmode": "overlay",
             "size": 10,
             "solidity": 0.2
            },
            "type": "scatter"
           }
          ],
          "scatter3d": [
           {
            "line": {
             "colorbar": {
              "outlinewidth": 0,
              "ticks": ""
             }
            },
            "marker": {
             "colorbar": {
              "outlinewidth": 0,
              "ticks": ""
             }
            },
            "type": "scatter3d"
           }
          ],
          "scattercarpet": [
           {
            "marker": {
             "colorbar": {
              "outlinewidth": 0,
              "ticks": ""
             }
            },
            "type": "scattercarpet"
           }
          ],
          "scattergeo": [
           {
            "marker": {
             "colorbar": {
              "outlinewidth": 0,
              "ticks": ""
             }
            },
            "type": "scattergeo"
           }
          ],
          "scattergl": [
           {
            "marker": {
             "colorbar": {
              "outlinewidth": 0,
              "ticks": ""
             }
            },
            "type": "scattergl"
           }
          ],
          "scattermapbox": [
           {
            "marker": {
             "colorbar": {
              "outlinewidth": 0,
              "ticks": ""
             }
            },
            "type": "scattermapbox"
           }
          ],
          "scatterpolar": [
           {
            "marker": {
             "colorbar": {
              "outlinewidth": 0,
              "ticks": ""
             }
            },
            "type": "scatterpolar"
           }
          ],
          "scatterpolargl": [
           {
            "marker": {
             "colorbar": {
              "outlinewidth": 0,
              "ticks": ""
             }
            },
            "type": "scatterpolargl"
           }
          ],
          "scatterternary": [
           {
            "marker": {
             "colorbar": {
              "outlinewidth": 0,
              "ticks": ""
             }
            },
            "type": "scatterternary"
           }
          ],
          "surface": [
           {
            "colorbar": {
             "outlinewidth": 0,
             "ticks": ""
            },
            "colorscale": [
             [
              0,
              "#0d0887"
             ],
             [
              0.1111111111111111,
              "#46039f"
             ],
             [
              0.2222222222222222,
              "#7201a8"
             ],
             [
              0.3333333333333333,
              "#9c179e"
             ],
             [
              0.4444444444444444,
              "#bd3786"
             ],
             [
              0.5555555555555556,
              "#d8576b"
             ],
             [
              0.6666666666666666,
              "#ed7953"
             ],
             [
              0.7777777777777778,
              "#fb9f3a"
             ],
             [
              0.8888888888888888,
              "#fdca26"
             ],
             [
              1,
              "#f0f921"
             ]
            ],
            "type": "surface"
           }
          ],
          "table": [
           {
            "cells": {
             "fill": {
              "color": "#EBF0F8"
             },
             "line": {
              "color": "white"
             }
            },
            "header": {
             "fill": {
              "color": "#C8D4E3"
             },
             "line": {
              "color": "white"
             }
            },
            "type": "table"
           }
          ]
         },
         "layout": {
          "annotationdefaults": {
           "arrowcolor": "#2a3f5f",
           "arrowhead": 0,
           "arrowwidth": 1
          },
          "autotypenumbers": "strict",
          "coloraxis": {
           "colorbar": {
            "outlinewidth": 0,
            "ticks": ""
           }
          },
          "colorscale": {
           "diverging": [
            [
             0,
             "#8e0152"
            ],
            [
             0.1,
             "#c51b7d"
            ],
            [
             0.2,
             "#de77ae"
            ],
            [
             0.3,
             "#f1b6da"
            ],
            [
             0.4,
             "#fde0ef"
            ],
            [
             0.5,
             "#f7f7f7"
            ],
            [
             0.6,
             "#e6f5d0"
            ],
            [
             0.7,
             "#b8e186"
            ],
            [
             0.8,
             "#7fbc41"
            ],
            [
             0.9,
             "#4d9221"
            ],
            [
             1,
             "#276419"
            ]
           ],
           "sequential": [
            [
             0,
             "#0d0887"
            ],
            [
             0.1111111111111111,
             "#46039f"
            ],
            [
             0.2222222222222222,
             "#7201a8"
            ],
            [
             0.3333333333333333,
             "#9c179e"
            ],
            [
             0.4444444444444444,
             "#bd3786"
            ],
            [
             0.5555555555555556,
             "#d8576b"
            ],
            [
             0.6666666666666666,
             "#ed7953"
            ],
            [
             0.7777777777777778,
             "#fb9f3a"
            ],
            [
             0.8888888888888888,
             "#fdca26"
            ],
            [
             1,
             "#f0f921"
            ]
           ],
           "sequentialminus": [
            [
             0,
             "#0d0887"
            ],
            [
             0.1111111111111111,
             "#46039f"
            ],
            [
             0.2222222222222222,
             "#7201a8"
            ],
            [
             0.3333333333333333,
             "#9c179e"
            ],
            [
             0.4444444444444444,
             "#bd3786"
            ],
            [
             0.5555555555555556,
             "#d8576b"
            ],
            [
             0.6666666666666666,
             "#ed7953"
            ],
            [
             0.7777777777777778,
             "#fb9f3a"
            ],
            [
             0.8888888888888888,
             "#fdca26"
            ],
            [
             1,
             "#f0f921"
            ]
           ]
          },
          "colorway": [
           "#636efa",
           "#EF553B",
           "#00cc96",
           "#ab63fa",
           "#FFA15A",
           "#19d3f3",
           "#FF6692",
           "#B6E880",
           "#FF97FF",
           "#FECB52"
          ],
          "font": {
           "color": "#2a3f5f"
          },
          "geo": {
           "bgcolor": "white",
           "lakecolor": "white",
           "landcolor": "#E5ECF6",
           "showlakes": true,
           "showland": true,
           "subunitcolor": "white"
          },
          "hoverlabel": {
           "align": "left"
          },
          "hovermode": "closest",
          "mapbox": {
           "style": "light"
          },
          "paper_bgcolor": "white",
          "plot_bgcolor": "#E5ECF6",
          "polar": {
           "angularaxis": {
            "gridcolor": "white",
            "linecolor": "white",
            "ticks": ""
           },
           "bgcolor": "#E5ECF6",
           "radialaxis": {
            "gridcolor": "white",
            "linecolor": "white",
            "ticks": ""
           }
          },
          "scene": {
           "xaxis": {
            "backgroundcolor": "#E5ECF6",
            "gridcolor": "white",
            "gridwidth": 2,
            "linecolor": "white",
            "showbackground": true,
            "ticks": "",
            "zerolinecolor": "white"
           },
           "yaxis": {
            "backgroundcolor": "#E5ECF6",
            "gridcolor": "white",
            "gridwidth": 2,
            "linecolor": "white",
            "showbackground": true,
            "ticks": "",
            "zerolinecolor": "white"
           },
           "zaxis": {
            "backgroundcolor": "#E5ECF6",
            "gridcolor": "white",
            "gridwidth": 2,
            "linecolor": "white",
            "showbackground": true,
            "ticks": "",
            "zerolinecolor": "white"
           }
          },
          "shapedefaults": {
           "line": {
            "color": "#2a3f5f"
           }
          },
          "ternary": {
           "aaxis": {
            "gridcolor": "white",
            "linecolor": "white",
            "ticks": ""
           },
           "baxis": {
            "gridcolor": "white",
            "linecolor": "white",
            "ticks": ""
           },
           "bgcolor": "#E5ECF6",
           "caxis": {
            "gridcolor": "white",
            "linecolor": "white",
            "ticks": ""
           }
          },
          "title": {
           "x": 0.05
          },
          "xaxis": {
           "automargin": true,
           "gridcolor": "white",
           "linecolor": "white",
           "ticks": "",
           "title": {
            "standoff": 15
           },
           "zerolinecolor": "white",
           "zerolinewidth": 2
          },
          "yaxis": {
           "automargin": true,
           "gridcolor": "white",
           "linecolor": "white",
           "ticks": "",
           "title": {
            "standoff": 15
           },
           "zerolinecolor": "white",
           "zerolinewidth": 2
          }
         }
        },
        "title": {
         "text": "Starting and Ending Heart Rates<br><sup>per Fitness Event</sup>",
         "x": 0.5,
         "xanchor": "center",
         "yanchor": "top"
        },
        "width": 1400,
        "xaxis": {
         "anchor": "y",
         "autorange": true,
         "domain": [
          0,
          1
         ],
         "range": [
          -0.5,
          58.5
         ],
         "tickangle": -45,
         "title": {
          "text": "Fitness Event"
         },
         "type": "category"
        },
        "yaxis": {
         "anchor": "x",
         "autorange": true,
         "domain": [
          0,
          1
         ],
         "range": [
          0,
          189.4736842105263
         ],
         "title": {
          "text": "Heart Rate (bpm)"
         },
         "type": "linear"
        }
       }
      },
      "image/png": "[encoded data removed]",
      "text/html": [
       "<div>                            <div id=\"a4090091-bdc2-4183-b036-c2103919b60f\" class=\"plotly-graph-div\" style=\"height:600px; width:1400px;\"></div>            <script type=\"text/javascript\">                require([\"plotly\"], function(Plotly) {                    window.PLOTLYENV=window.PLOTLYENV || {};                                    if (document.getElementById(\"a4090091-bdc2-4183-b036-c2103919b60f\")) {                    Plotly.newPlot(                        \"a4090091-bdc2-4183-b036-c2103919b60f\",                        [{\"alignmentgroup\":\"True\",\"hovertemplate\":\"Starting\\u002fEnding Heart Rate=Starting Heart Rate\\u003cbr\\u003eFitness Event=%{x}\\u003cbr\\u003eHeart Rate=%{y}\\u003cextra\\u003e\\u003c\\u002fextra\\u003e\",\"legendgroup\":\"Starting Heart Rate\",\"marker\":{\"color\":\"#85cc6f\",\"pattern\":{\"shape\":\"\"}},\"name\":\"Starting Heart Rate\",\"offsetgroup\":\"Starting Heart Rate\",\"orientation\":\"v\",\"showlegend\":true,\"textposition\":\"auto\",\"x\":[\"Fitness Event 1\",\"Fitness Event 2\",\"Fitness Event 3\",\"Fitness Event 4\",\"Fitness Event 5\",\"Fitness Event 6\",\"Fitness Event 7\",\"Fitness Event 8\",\"Fitness Event 9\",\"Fitness Event 10\",\"Fitness Event 11\",\"Fitness Event 12\",\"Fitness Event 13\",\"Fitness Event 14\",\"Fitness Event 15\",\"Fitness Event 16\",\"Fitness Event 17\",\"Fitness Event 18\",\"Fitness Event 19\",\"Fitness Event 20\",\"Fitness Event 21\",\"Fitness Event 22\",\"Fitness Event 23\",\"Fitness Event 24\",\"Fitness Event 25\",\"Fitness Event 26\",\"Fitness Event 27\",\"Fitness Event 28\",\"Fitness Event 29\",\"Fitness Event 30\",\"Fitness Event 31\",\"Fitness Event 32\",\"Fitness Event 33\",\"Fitness Event 34\",\"Fitness Event 35\",\"Fitness Event 36\",\"Fitness Event 37\",\"Fitness Event 38\",\"Fitness Event 39\",\"Fitness Event 40\",\"Fitness Event 41\",\"Fitness Event 42\",\"Fitness Event 43\",\"Fitness Event 44\",\"Fitness Event 45\",\"Fitness Event 46\",\"Fitness Event 47\",\"Fitness Event 48\",\"Fitness Event 49\",\"Fitness Event 50\",\"Fitness Event 51\",\"Fitness Event 52\",\"Fitness Event 53\",\"Fitness Event 54\",\"Fitness Event 57\",\"Fitness Event 58\",\"Fitness Event 61\",\"Fitness Event 62\",\"Fitness Event 64\"],\"xaxis\":\"x\",\"y\":[68.0,71.0,121.0,124.0,73.0,103.0,86.0,72.0,85.0,80.0,102.0,82.0,79.0,63.0,97.0,78.0,73.0,131.0,89.0,74.0,91.0,86.0,65.0,80.0,57.0,56.0,61.0,72.0,74.0,83.0,108.0,82.0,73.0,69.0,131.0,109.0,75.0,94.0,87.0,93.0,77.0,101.0,75.0,89.0,106.0,97.0,119.0,85.0,72.0,78.0,86.0,105.0,110.0,112.0,131.0,90.0,89.0,140.0,92.0],\"yaxis\":\"y\",\"type\":\"bar\"},{\"alignmentgroup\":\"True\",\"hovertemplate\":\"Starting\\u002fEnding Heart Rate=Ending Heart Rate\\u003cbr\\u003eFitness Event=%{x}\\u003cbr\\u003eHeart Rate=%{y}\\u003cextra\\u003e\\u003c\\u002fextra\\u003e\",\"legendgroup\":\"Ending Heart Rate\",\"marker\":{\"color\":\"#355c7d\",\"pattern\":{\"shape\":\"\"}},\"name\":\"Ending Heart Rate\",\"offsetgroup\":\"Ending Heart Rate\",\"orientation\":\"v\",\"showlegend\":true,\"textposition\":\"auto\",\"x\":[\"Fitness Event 1\",\"Fitness Event 2\",\"Fitness Event 3\",\"Fitness Event 4\",\"Fitness Event 5\",\"Fitness Event 6\",\"Fitness Event 7\",\"Fitness Event 8\",\"Fitness Event 9\",\"Fitness Event 10\",\"Fitness Event 11\",\"Fitness Event 12\",\"Fitness Event 13\",\"Fitness Event 14\",\"Fitness Event 15\",\"Fitness Event 16\",\"Fitness Event 17\",\"Fitness Event 18\",\"Fitness Event 19\",\"Fitness Event 20\",\"Fitness Event 21\",\"Fitness Event 22\",\"Fitness Event 23\",\"Fitness Event 24\",\"Fitness Event 25\",\"Fitness Event 26\",\"Fitness Event 27\",\"Fitness Event 28\",\"Fitness Event 29\",\"Fitness Event 30\",\"Fitness Event 31\",\"Fitness Event 32\",\"Fitness Event 33\",\"Fitness Event 34\",\"Fitness Event 35\",\"Fitness Event 36\",\"Fitness Event 37\",\"Fitness Event 38\",\"Fitness Event 39\",\"Fitness Event 40\",\"Fitness Event 41\",\"Fitness Event 42\",\"Fitness Event 43\",\"Fitness Event 44\",\"Fitness Event 45\",\"Fitness Event 46\",\"Fitness Event 47\",\"Fitness Event 48\",\"Fitness Event 49\",\"Fitness Event 50\",\"Fitness Event 51\",\"Fitness Event 52\",\"Fitness Event 53\",\"Fitness Event 54\",\"Fitness Event 57\",\"Fitness Event 58\",\"Fitness Event 61\",\"Fitness Event 62\",\"Fitness Event 64\"],\"xaxis\":\"x\",\"y\":[132.0,136.0,142.0,137.0,119.0,122.0,124.0,119.0,128.0,133.0,127.0,86.0,106.0,120.0,141.0,140.0,139.0,139.0,106.0,132.0,132.0,121.0,96.0,130.0,111.0,93.0,118.0,143.0,109.0,143.0,135.0,138.0,145.0,149.0,166.0,148.0,142.0,163.0,165.0,140.0,154.0,180.0,149.0,151.0,156.0,155.0,164.0,135.0,139.0,157.0,169.0,126.0,123.0,112.0,110.0,133.0,133.0,142.0,135.0],\"yaxis\":\"y\",\"type\":\"bar\"}],                        {\"template\":{\"data\":{\"histogram2dcontour\":[{\"type\":\"histogram2dcontour\",\"colorbar\":{\"outlinewidth\":0,\"ticks\":\"\"},\"colorscale\":[[0.0,\"#0d0887\"],[0.1111111111111111,\"#46039f\"],[0.2222222222222222,\"#7201a8\"],[0.3333333333333333,\"#9c179e\"],[0.4444444444444444,\"#bd3786\"],[0.5555555555555556,\"#d8576b\"],[0.6666666666666666,\"#ed7953\"],[0.7777777777777778,\"#fb9f3a\"],[0.8888888888888888,\"#fdca26\"],[1.0,\"#f0f921\"]]}],\"choropleth\":[{\"type\":\"choropleth\",\"colorbar\":{\"outlinewidth\":0,\"ticks\":\"\"}}],\"histogram2d\":[{\"type\":\"histogram2d\",\"colorbar\":{\"outlinewidth\":0,\"ticks\":\"\"},\"colorscale\":[[0.0,\"#0d0887\"],[0.1111111111111111,\"#46039f\"],[0.2222222222222222,\"#7201a8\"],[0.3333333333333333,\"#9c179e\"],[0.4444444444444444,\"#bd3786\"],[0.5555555555555556,\"#d8576b\"],[0.6666666666666666,\"#ed7953\"],[0.7777777777777778,\"#fb9f3a\"],[0.8888888888888888,\"#fdca26\"],[1.0,\"#f0f921\"]]}],\"heatmap\":[{\"type\":\"heatmap\",\"colorbar\":{\"outlinewidth\":0,\"ticks\":\"\"},\"colorscale\":[[0.0,\"#0d0887\"],[0.1111111111111111,\"#46039f\"],[0.2222222222222222,\"#7201a8\"],[0.3333333333333333,\"#9c179e\"],[0.4444444444444444,\"#bd3786\"],[0.5555555555555556,\"#d8576b\"],[0.6666666666666666,\"#ed7953\"],[0.7777777777777778,\"#fb9f3a\"],[0.8888888888888888,\"#fdca26\"],[1.0,\"#f0f921\"]]}],\"heatmapgl\":[{\"type\":\"heatmapgl\",\"colorbar\":{\"outlinewidth\":0,\"ticks\":\"\"},\"colorscale\":[[0.0,\"#0d0887\"],[0.1111111111111111,\"#46039f\"],[0.2222222222222222,\"#7201a8\"],[0.3333333333333333,\"#9c179e\"],[0.4444444444444444,\"#bd3786\"],[0.5555555555555556,\"#d8576b\"],[0.6666666666666666,\"#ed7953\"],[0.7777777777777778,\"#fb9f3a\"],[0.8888888888888888,\"#fdca26\"],[1.0,\"#f0f921\"]]}],\"contourcarpet\":[{\"type\":\"contourcarpet\",\"colorbar\":{\"outlinewidth\":0,\"ticks\":\"\"}}],\"contour\":[{\"type\":\"contour\",\"colorbar\":{\"outlinewidth\":0,\"ticks\":\"\"},\"colorscale\":[[0.0,\"#0d0887\"],[0.1111111111111111,\"#46039f\"],[0.2222222222222222,\"#7201a8\"],[0.3333333333333333,\"#9c179e\"],[0.4444444444444444,\"#bd3786\"],[0.5555555555555556,\"#d8576b\"],[0.6666666666666666,\"#ed7953\"],[0.7777777777777778,\"#fb9f3a\"],[0.8888888888888888,\"#fdca26\"],[1.0,\"#f0f921\"]]}],\"surface\":[{\"type\":\"surface\",\"colorbar\":{\"outlinewidth\":0,\"ticks\":\"\"},\"colorscale\":[[0.0,\"#0d0887\"],[0.1111111111111111,\"#46039f\"],[0.2222222222222222,\"#7201a8\"],[0.3333333333333333,\"#9c179e\"],[0.4444444444444444,\"#bd3786\"],[0.5555555555555556,\"#d8576b\"],[0.6666666666666666,\"#ed7953\"],[0.7777777777777778,\"#fb9f3a\"],[0.8888888888888888,\"#fdca26\"],[1.0,\"#f0f921\"]]}],\"mesh3d\":[{\"type\":\"mesh3d\",\"colorbar\":{\"outlinewidth\":0,\"ticks\":\"\"}}],\"scatter\":[{\"fillpattern\":{\"fillmode\":\"overlay\",\"size\":10,\"solidity\":0.2},\"type\":\"scatter\"}],\"parcoords\":[{\"type\":\"parcoords\",\"line\":{\"colorbar\":{\"outlinewidth\":0,\"ticks\":\"\"}}}],\"scatterpolargl\":[{\"type\":\"scatterpolargl\",\"marker\":{\"colorbar\":{\"outlinewidth\":0,\"ticks\":\"\"}}}],\"bar\":[{\"error_x\":{\"color\":\"#2a3f5f\"},\"error_y\":{\"color\":\"#2a3f5f\"},\"marker\":{\"line\":{\"color\":\"#E5ECF6\",\"width\":0.5},\"pattern\":{\"fillmode\":\"overlay\",\"size\":10,\"solidity\":0.2}},\"type\":\"bar\"}],\"scattergeo\":[{\"type\":\"scattergeo\",\"marker\":{\"colorbar\":{\"outlinewidth\":0,\"ticks\":\"\"}}}],\"scatterpolar\":[{\"type\":\"scatterpolar\",\"marker\":{\"colorbar\":{\"outlinewidth\":0,\"ticks\":\"\"}}}],\"histogram\":[{\"marker\":{\"pattern\":{\"fillmode\":\"overlay\",\"size\":10,\"solidity\":0.2}},\"type\":\"histogram\"}],\"scattergl\":[{\"type\":\"scattergl\",\"marker\":{\"colorbar\":{\"outlinewidth\":0,\"ticks\":\"\"}}}],\"scatter3d\":[{\"type\":\"scatter3d\",\"line\":{\"colorbar\":{\"outlinewidth\":0,\"ticks\":\"\"}},\"marker\":{\"colorbar\":{\"outlinewidth\":0,\"ticks\":\"\"}}}],\"scattermapbox\":[{\"type\":\"scattermapbox\",\"marker\":{\"colorbar\":{\"outlinewidth\":0,\"ticks\":\"\"}}}],\"scatterternary\":[{\"type\":\"scatterternary\",\"marker\":{\"colorbar\":{\"outlinewidth\":0,\"ticks\":\"\"}}}],\"scattercarpet\":[{\"type\":\"scattercarpet\",\"marker\":{\"colorbar\":{\"outlinewidth\":0,\"ticks\":\"\"}}}],\"carpet\":[{\"aaxis\":{\"endlinecolor\":\"#2a3f5f\",\"gridcolor\":\"white\",\"linecolor\":\"white\",\"minorgridcolor\":\"white\",\"startlinecolor\":\"#2a3f5f\"},\"baxis\":{\"endlinecolor\":\"#2a3f5f\",\"gridcolor\":\"white\",\"linecolor\":\"white\",\"minorgridcolor\":\"white\",\"startlinecolor\":\"#2a3f5f\"},\"type\":\"carpet\"}],\"table\":[{\"cells\":{\"fill\":{\"color\":\"#EBF0F8\"},\"line\":{\"color\":\"white\"}},\"header\":{\"fill\":{\"color\":\"#C8D4E3\"},\"line\":{\"color\":\"white\"}},\"type\":\"table\"}],\"barpolar\":[{\"marker\":{\"line\":{\"color\":\"#E5ECF6\",\"width\":0.5},\"pattern\":{\"fillmode\":\"overlay\",\"size\":10,\"solidity\":0.2}},\"type\":\"barpolar\"}],\"pie\":[{\"automargin\":true,\"type\":\"pie\"}]},\"layout\":{\"autotypenumbers\":\"strict\",\"colorway\":[\"#636efa\",\"#EF553B\",\"#00cc96\",\"#ab63fa\",\"#FFA15A\",\"#19d3f3\",\"#FF6692\",\"#B6E880\",\"#FF97FF\",\"#FECB52\"],\"font\":{\"color\":\"#2a3f5f\"},\"hovermode\":\"closest\",\"hoverlabel\":{\"align\":\"left\"},\"paper_bgcolor\":\"white\",\"plot_bgcolor\":\"#E5ECF6\",\"polar\":{\"bgcolor\":\"#E5ECF6\",\"angularaxis\":{\"gridcolor\":\"white\",\"linecolor\":\"white\",\"ticks\":\"\"},\"radialaxis\":{\"gridcolor\":\"white\",\"linecolor\":\"white\",\"ticks\":\"\"}},\"ternary\":{\"bgcolor\":\"#E5ECF6\",\"aaxis\":{\"gridcolor\":\"white\",\"linecolor\":\"white\",\"ticks\":\"\"},\"baxis\":{\"gridcolor\":\"white\",\"linecolor\":\"white\",\"ticks\":\"\"},\"caxis\":{\"gridcolor\":\"white\",\"linecolor\":\"white\",\"ticks\":\"\"}},\"coloraxis\":{\"colorbar\":{\"outlinewidth\":0,\"ticks\":\"\"}},\"colorscale\":{\"sequential\":[[0.0,\"#0d0887\"],[0.1111111111111111,\"#46039f\"],[0.2222222222222222,\"#7201a8\"],[0.3333333333333333,\"#9c179e\"],[0.4444444444444444,\"#bd3786\"],[0.5555555555555556,\"#d8576b\"],[0.6666666666666666,\"#ed7953\"],[0.7777777777777778,\"#fb9f3a\"],[0.8888888888888888,\"#fdca26\"],[1.0,\"#f0f921\"]],\"sequentialminus\":[[0.0,\"#0d0887\"],[0.1111111111111111,\"#46039f\"],[0.2222222222222222,\"#7201a8\"],[0.3333333333333333,\"#9c179e\"],[0.4444444444444444,\"#bd3786\"],[0.5555555555555556,\"#d8576b\"],[0.6666666666666666,\"#ed7953\"],[0.7777777777777778,\"#fb9f3a\"],[0.8888888888888888,\"#fdca26\"],[1.0,\"#f0f921\"]],\"diverging\":[[0,\"#8e0152\"],[0.1,\"#c51b7d\"],[0.2,\"#de77ae\"],[0.3,\"#f1b6da\"],[0.4,\"#fde0ef\"],[0.5,\"#f7f7f7\"],[0.6,\"#e6f5d0\"],[0.7,\"#b8e186\"],[0.8,\"#7fbc41\"],[0.9,\"#4d9221\"],[1,\"#276419\"]]},\"xaxis\":{\"gridcolor\":\"white\",\"linecolor\":\"white\",\"ticks\":\"\",\"title\":{\"standoff\":15},\"zerolinecolor\":\"white\",\"automargin\":true,\"zerolinewidth\":2},\"yaxis\":{\"gridcolor\":\"white\",\"linecolor\":\"white\",\"ticks\":\"\",\"title\":{\"standoff\":15},\"zerolinecolor\":\"white\",\"automargin\":true,\"zerolinewidth\":2},\"scene\":{\"xaxis\":{\"backgroundcolor\":\"#E5ECF6\",\"gridcolor\":\"white\",\"linecolor\":\"white\",\"showbackground\":true,\"ticks\":\"\",\"zerolinecolor\":\"white\",\"gridwidth\":2},\"yaxis\":{\"backgroundcolor\":\"#E5ECF6\",\"gridcolor\":\"white\",\"linecolor\":\"white\",\"showbackground\":true,\"ticks\":\"\",\"zerolinecolor\":\"white\",\"gridwidth\":2},\"zaxis\":{\"backgroundcolor\":\"#E5ECF6\",\"gridcolor\":\"white\",\"linecolor\":\"white\",\"showbackground\":true,\"ticks\":\"\",\"zerolinecolor\":\"white\",\"gridwidth\":2}},\"shapedefaults\":{\"line\":{\"color\":\"#2a3f5f\"}},\"annotationdefaults\":{\"arrowcolor\":\"#2a3f5f\",\"arrowhead\":0,\"arrowwidth\":1},\"geo\":{\"bgcolor\":\"white\",\"landcolor\":\"#E5ECF6\",\"subunitcolor\":\"white\",\"showland\":true,\"showlakes\":true,\"lakecolor\":\"white\"},\"title\":{\"x\":0.05},\"mapbox\":{\"style\":\"light\"}}},\"xaxis\":{\"anchor\":\"y\",\"domain\":[0.0,1.0],\"title\":{\"text\":\"Fitness Event\"},\"tickangle\":-45},\"yaxis\":{\"anchor\":\"x\",\"domain\":[0.0,1.0],\"title\":{\"text\":\"Heart Rate (bpm)\"}},\"legend\":{\"title\":{\"text\":\"Starting\\u002fEnding Heart Rate\"},\"tracegroupgap\":0},\"margin\":{\"t\":60},\"barmode\":\"group\",\"title\":{\"text\":\"Starting and Ending Heart Rates\\u003cbr\\u003e\\u003csup\\u003eper Fitness Event\\u003c\\u002fsup\\u003e\",\"x\":0.5,\"xanchor\":\"center\",\"yanchor\":\"top\"},\"height\":600,\"width\":1400},                        {\"responsive\": true}                    ).then(function(){\n",
       "                            \n",
       "var gd = document.getElementById('a4090091-bdc2-4183-b036-c2103919b60f');\n",
       "var x = new MutationObserver(function (mutations, observer) {{\n",
       "        var display = window.getComputedStyle(gd).display;\n",
       "        if (!display || display === 'none') {{\n",
       "            console.log([gd, 'removed!']);\n",
       "            Plotly.purge(gd);\n",
       "            observer.disconnect();\n",
       "        }}\n",
       "}});\n",
       "\n",
       "// Listen for the removal of the full notebook cells\n",
       "var notebookContainer = gd.closest('#notebook-container');\n",
       "if (notebookContainer) {{\n",
       "    x.observe(notebookContainer, {childList: true});\n",
       "}}\n",
       "\n",
       "// Listen for the clearing of the current output cell\n",
       "var outputEl = gd.closest('.output');\n",
       "if (outputEl) {{\n",
       "    x.observe(outputEl, {childList: true});\n",
       "}}\n",
       "\n",
       "                        })                };                });            </script>        </div>"
      ]
     },
     "metadata": {},
     "output_type": "display_data"
    }
   ],
   "source": [
    "color_code = {'Starting Heart Rate' : '#85cc6f', 'Ending Heart Rate' : '#355c7d'}\n",
    "fig = px.bar(df_hr, x='Fitness Event', y='Heart Rate', color='Starting/Ending Heart Rate', barmode='group', color_discrete_map=color_code)\n",
    "\n",
    "fig.update_layout(height=600, width=1400, title={\n",
    "        'text': f\"Starting and Ending Heart Rates<br><sup>per Fitness Event</sup>\",\n",
    "        'x':0.5,\n",
    "        'xanchor': 'center',\n",
    "        'yanchor': 'top'\n",
    "    }) \n",
    "fig.update_yaxes(title_text='Heart Rate (bpm)', row=1, col=1)\n",
    "fig.update_xaxes(tickangle=-45)\n",
    "fig.show()"
   ]
  },
  {
   "cell_type": "code",
   "execution_count": 86,
   "id": "f53856f2-dc4a-42c9-8993-e0c8317cf51c",
   "metadata": {},
   "outputs": [
    {
     "data": {
      "text/html": [
       "<div>\n",
       "<style scoped>\n",
       "    .dataframe tbody tr th:only-of-type {\n",
       "        vertical-align: middle;\n",
       "    }\n",
       "\n",
       "    .dataframe tbody tr th {\n",
       "        vertical-align: top;\n",
       "    }\n",
       "\n",
       "    .dataframe thead th {\n",
       "        text-align: right;\n",
       "    }\n",
       "</style>\n",
       "<table border=\"1\" class=\"dataframe\">\n",
       "  <thead>\n",
       "    <tr style=\"text-align: right;\">\n",
       "      <th></th>\n",
       "      <th>Fitness Event</th>\n",
       "      <th>Starting Heart Rate</th>\n",
       "      <th>Ending Heart Rate</th>\n",
       "      <th>Heart Rate Difference</th>\n",
       "    </tr>\n",
       "  </thead>\n",
       "  <tbody>\n",
       "    <tr>\n",
       "      <th>0</th>\n",
       "      <td>Fitness Event 1</td>\n",
       "      <td>68.0</td>\n",
       "      <td>132.0</td>\n",
       "      <td>64.0</td>\n",
       "    </tr>\n",
       "    <tr>\n",
       "      <th>1</th>\n",
       "      <td>Fitness Event 2</td>\n",
       "      <td>71.0</td>\n",
       "      <td>136.0</td>\n",
       "      <td>65.0</td>\n",
       "    </tr>\n",
       "    <tr>\n",
       "      <th>2</th>\n",
       "      <td>Fitness Event 3</td>\n",
       "      <td>121.0</td>\n",
       "      <td>142.0</td>\n",
       "      <td>21.0</td>\n",
       "    </tr>\n",
       "    <tr>\n",
       "      <th>3</th>\n",
       "      <td>Fitness Event 4</td>\n",
       "      <td>124.0</td>\n",
       "      <td>137.0</td>\n",
       "      <td>13.0</td>\n",
       "    </tr>\n",
       "    <tr>\n",
       "      <th>4</th>\n",
       "      <td>Fitness Event 5</td>\n",
       "      <td>73.0</td>\n",
       "      <td>119.0</td>\n",
       "      <td>46.0</td>\n",
       "    </tr>\n",
       "  </tbody>\n",
       "</table>\n",
       "</div>"
      ],
      "text/plain": [
       "     Fitness Event  Starting Heart Rate  Ending Heart Rate  \\\n",
       "0  Fitness Event 1                 68.0              132.0   \n",
       "1  Fitness Event 2                 71.0              136.0   \n",
       "2  Fitness Event 3                121.0              142.0   \n",
       "3  Fitness Event 4                124.0              137.0   \n",
       "4  Fitness Event 5                 73.0              119.0   \n",
       "\n",
       "   Heart Rate Difference  \n",
       "0                   64.0  \n",
       "1                   65.0  \n",
       "2                   21.0  \n",
       "3                   13.0  \n",
       "4                   46.0  "
      ]
     },
     "execution_count": 86,
     "metadata": {},
     "output_type": "execute_result"
    }
   ],
   "source": [
    "df_hr_start2 = df[['datafile', 'heart_rate']]\n",
    "df_hr_end2 = df[['datafile', 'heart_rate']]\n",
    "df_hr_start2 = df_hr_start2.groupby('datafile')['heart_rate'].first().reset_index()                \n",
    "df_hr_end2 = df_hr_end2.groupby('datafile')['heart_rate'].last().reset_index()\n",
    "df_hr2 = pd.merge(df_hr_start2, df_hr_end2, on='datafile')\n",
    "rename_map2 = {file: f'Fitness Event {i+1}' for i, file in enumerate(df_hr2['datafile'])}\n",
    "df_hr2['datafile'] = df_hr2['datafile'].map(rename_map2)\n",
    "df_hr2 = df_hr2.rename(columns={'heart_rate_x' : 'Starting Heart Rate', 'heart_rate_y' : 'Ending Heart Rate', 'datafile' : 'Fitness Event'})\n",
    "df_hr2['Heart Rate Difference'] = df_hr2['Ending Heart Rate'] - df_hr2['Starting Heart Rate']\n",
    "df_hr2 = df_hr2.dropna()\n",
    "df_hr2.head(5)"
   ]
  },
  {
   "cell_type": "code",
   "execution_count": 89,
   "id": "bc7d6fed-5574-4f68-b911-a9b2b71b8a68",
   "metadata": {},
   "outputs": [
    {
     "data": {
      "application/vnd.plotly.v1+json": {
       "config": {
        "plotlyServerURL": "https://plot.ly"
       },
       "data": [
        {
         "alignmentgroup": "True",
         "hovertemplate": "Fitness Event=%{x}<br>Heart Rate Difference=%{y}<extra></extra>",
         "legendgroup": "",
         "marker": {
          "color": "#636efa",
          "pattern": {
           "shape": ""
          }
         },
         "name": "",
         "offsetgroup": "",
         "orientation": "v",
         "showlegend": false,
         "textposition": "auto",
         "type": "bar",
         "x": [
          "Fitness Event 1",
          "Fitness Event 2",
          "Fitness Event 3",
          "Fitness Event 4",
          "Fitness Event 5",
          "Fitness Event 6",
          "Fitness Event 7",
          "Fitness Event 8",
          "Fitness Event 9",
          "Fitness Event 10",
          "Fitness Event 11",
          "Fitness Event 12",
          "Fitness Event 13",
          "Fitness Event 14",
          "Fitness Event 15",
          "Fitness Event 16",
          "Fitness Event 17",
          "Fitness Event 18",
          "Fitness Event 19",
          "Fitness Event 20",
          "Fitness Event 21",
          "Fitness Event 22",
          "Fitness Event 23",
          "Fitness Event 24",
          "Fitness Event 25",
          "Fitness Event 26",
          "Fitness Event 27",
          "Fitness Event 28",
          "Fitness Event 29",
          "Fitness Event 30",
          "Fitness Event 31",
          "Fitness Event 32",
          "Fitness Event 33",
          "Fitness Event 34",
          "Fitness Event 35",
          "Fitness Event 36",
          "Fitness Event 37",
          "Fitness Event 38",
          "Fitness Event 39",
          "Fitness Event 40",
          "Fitness Event 41",
          "Fitness Event 42",
          "Fitness Event 43",
          "Fitness Event 44",
          "Fitness Event 45",
          "Fitness Event 46",
          "Fitness Event 47",
          "Fitness Event 48",
          "Fitness Event 49",
          "Fitness Event 50",
          "Fitness Event 51",
          "Fitness Event 52",
          "Fitness Event 53",
          "Fitness Event 54",
          "Fitness Event 57",
          "Fitness Event 58",
          "Fitness Event 61",
          "Fitness Event 62",
          "Fitness Event 64"
         ],
         "xaxis": "x",
         "y": [
          64,
          65,
          21,
          13,
          46,
          19,
          38,
          47,
          43,
          53,
          25,
          4,
          27,
          57,
          44,
          62,
          66,
          8,
          17,
          58,
          41,
          35,
          31,
          50,
          54,
          37,
          57,
          71,
          35,
          60,
          27,
          56,
          72,
          80,
          35,
          39,
          67,
          69,
          78,
          47,
          77,
          79,
          74,
          62,
          50,
          58,
          45,
          50,
          67,
          79,
          83,
          21,
          13,
          0,
          -21,
          43,
          44,
          2,
          43
         ],
         "yaxis": "y"
        }
       ],
       "layout": {
        "barmode": "relative",
        "height": 600,
        "legend": {
         "tracegroupgap": 0
        },
        "margin": {
         "t": 60
        },
        "template": {
         "data": {
          "bar": [
           {
            "error_x": {
             "color": "#2a3f5f"
            },
            "error_y": {
             "color": "#2a3f5f"
            },
            "marker": {
             "line": {
              "color": "#E5ECF6",
              "width": 0.5
             },
             "pattern": {
              "fillmode": "overlay",
              "size": 10,
              "solidity": 0.2
             }
            },
            "type": "bar"
           }
          ],
          "barpolar": [
           {
            "marker": {
             "line": {
              "color": "#E5ECF6",
              "width": 0.5
             },
             "pattern": {
              "fillmode": "overlay",
              "size": 10,
              "solidity": 0.2
             }
            },
            "type": "barpolar"
           }
          ],
          "carpet": [
           {
            "aaxis": {
             "endlinecolor": "#2a3f5f",
             "gridcolor": "white",
             "linecolor": "white",
             "minorgridcolor": "white",
             "startlinecolor": "#2a3f5f"
            },
            "baxis": {
             "endlinecolor": "#2a3f5f",
             "gridcolor": "white",
             "linecolor": "white",
             "minorgridcolor": "white",
             "startlinecolor": "#2a3f5f"
            },
            "type": "carpet"
           }
          ],
          "choropleth": [
           {
            "colorbar": {
             "outlinewidth": 0,
             "ticks": ""
            },
            "type": "choropleth"
           }
          ],
          "contour": [
           {
            "colorbar": {
             "outlinewidth": 0,
             "ticks": ""
            },
            "colorscale": [
             [
              0,
              "#0d0887"
             ],
             [
              0.1111111111111111,
              "#46039f"
             ],
             [
              0.2222222222222222,
              "#7201a8"
             ],
             [
              0.3333333333333333,
              "#9c179e"
             ],
             [
              0.4444444444444444,
              "#bd3786"
             ],
             [
              0.5555555555555556,
              "#d8576b"
             ],
             [
              0.6666666666666666,
              "#ed7953"
             ],
             [
              0.7777777777777778,
              "#fb9f3a"
             ],
             [
              0.8888888888888888,
              "#fdca26"
             ],
             [
              1,
              "#f0f921"
             ]
            ],
            "type": "contour"
           }
          ],
          "contourcarpet": [
           {
            "colorbar": {
             "outlinewidth": 0,
             "ticks": ""
            },
            "type": "contourcarpet"
           }
          ],
          "heatmap": [
           {
            "colorbar": {
             "outlinewidth": 0,
             "ticks": ""
            },
            "colorscale": [
             [
              0,
              "#0d0887"
             ],
             [
              0.1111111111111111,
              "#46039f"
             ],
             [
              0.2222222222222222,
              "#7201a8"
             ],
             [
              0.3333333333333333,
              "#9c179e"
             ],
             [
              0.4444444444444444,
              "#bd3786"
             ],
             [
              0.5555555555555556,
              "#d8576b"
             ],
             [
              0.6666666666666666,
              "#ed7953"
             ],
             [
              0.7777777777777778,
              "#fb9f3a"
             ],
             [
              0.8888888888888888,
              "#fdca26"
             ],
             [
              1,
              "#f0f921"
             ]
            ],
            "type": "heatmap"
           }
          ],
          "heatmapgl": [
           {
            "colorbar": {
             "outlinewidth": 0,
             "ticks": ""
            },
            "colorscale": [
             [
              0,
              "#0d0887"
             ],
             [
              0.1111111111111111,
              "#46039f"
             ],
             [
              0.2222222222222222,
              "#7201a8"
             ],
             [
              0.3333333333333333,
              "#9c179e"
             ],
             [
              0.4444444444444444,
              "#bd3786"
             ],
             [
              0.5555555555555556,
              "#d8576b"
             ],
             [
              0.6666666666666666,
              "#ed7953"
             ],
             [
              0.7777777777777778,
              "#fb9f3a"
             ],
             [
              0.8888888888888888,
              "#fdca26"
             ],
             [
              1,
              "#f0f921"
             ]
            ],
            "type": "heatmapgl"
           }
          ],
          "histogram": [
           {
            "marker": {
             "pattern": {
              "fillmode": "overlay",
              "size": 10,
              "solidity": 0.2
             }
            },
            "type": "histogram"
           }
          ],
          "histogram2d": [
           {
            "colorbar": {
             "outlinewidth": 0,
             "ticks": ""
            },
            "colorscale": [
             [
              0,
              "#0d0887"
             ],
             [
              0.1111111111111111,
              "#46039f"
             ],
             [
              0.2222222222222222,
              "#7201a8"
             ],
             [
              0.3333333333333333,
              "#9c179e"
             ],
             [
              0.4444444444444444,
              "#bd3786"
             ],
             [
              0.5555555555555556,
              "#d8576b"
             ],
             [
              0.6666666666666666,
              "#ed7953"
             ],
             [
              0.7777777777777778,
              "#fb9f3a"
             ],
             [
              0.8888888888888888,
              "#fdca26"
             ],
             [
              1,
              "#f0f921"
             ]
            ],
            "type": "histogram2d"
           }
          ],
          "histogram2dcontour": [
           {
            "colorbar": {
             "outlinewidth": 0,
             "ticks": ""
            },
            "colorscale": [
             [
              0,
              "#0d0887"
             ],
             [
              0.1111111111111111,
              "#46039f"
             ],
             [
              0.2222222222222222,
              "#7201a8"
             ],
             [
              0.3333333333333333,
              "#9c179e"
             ],
             [
              0.4444444444444444,
              "#bd3786"
             ],
             [
              0.5555555555555556,
              "#d8576b"
             ],
             [
              0.6666666666666666,
              "#ed7953"
             ],
             [
              0.7777777777777778,
              "#fb9f3a"
             ],
             [
              0.8888888888888888,
              "#fdca26"
             ],
             [
              1,
              "#f0f921"
             ]
            ],
            "type": "histogram2dcontour"
           }
          ],
          "mesh3d": [
           {
            "colorbar": {
             "outlinewidth": 0,
             "ticks": ""
            },
            "type": "mesh3d"
           }
          ],
          "parcoords": [
           {
            "line": {
             "colorbar": {
              "outlinewidth": 0,
              "ticks": ""
             }
            },
            "type": "parcoords"
           }
          ],
          "pie": [
           {
            "automargin": true,
            "type": "pie"
           }
          ],
          "scatter": [
           {
            "fillpattern": {
             "fillmode": "overlay",
             "size": 10,
             "solidity": 0.2
            },
            "type": "scatter"
           }
          ],
          "scatter3d": [
           {
            "line": {
             "colorbar": {
              "outlinewidth": 0,
              "ticks": ""
             }
            },
            "marker": {
             "colorbar": {
              "outlinewidth": 0,
              "ticks": ""
             }
            },
            "type": "scatter3d"
           }
          ],
          "scattercarpet": [
           {
            "marker": {
             "colorbar": {
              "outlinewidth": 0,
              "ticks": ""
             }
            },
            "type": "scattercarpet"
           }
          ],
          "scattergeo": [
           {
            "marker": {
             "colorbar": {
              "outlinewidth": 0,
              "ticks": ""
             }
            },
            "type": "scattergeo"
           }
          ],
          "scattergl": [
           {
            "marker": {
             "colorbar": {
              "outlinewidth": 0,
              "ticks": ""
             }
            },
            "type": "scattergl"
           }
          ],
          "scattermapbox": [
           {
            "marker": {
             "colorbar": {
              "outlinewidth": 0,
              "ticks": ""
             }
            },
            "type": "scattermapbox"
           }
          ],
          "scatterpolar": [
           {
            "marker": {
             "colorbar": {
              "outlinewidth": 0,
              "ticks": ""
             }
            },
            "type": "scatterpolar"
           }
          ],
          "scatterpolargl": [
           {
            "marker": {
             "colorbar": {
              "outlinewidth": 0,
              "ticks": ""
             }
            },
            "type": "scatterpolargl"
           }
          ],
          "scatterternary": [
           {
            "marker": {
             "colorbar": {
              "outlinewidth": 0,
              "ticks": ""
             }
            },
            "type": "scatterternary"
           }
          ],
          "surface": [
           {
            "colorbar": {
             "outlinewidth": 0,
             "ticks": ""
            },
            "colorscale": [
             [
              0,
              "#0d0887"
             ],
             [
              0.1111111111111111,
              "#46039f"
             ],
             [
              0.2222222222222222,
              "#7201a8"
             ],
             [
              0.3333333333333333,
              "#9c179e"
             ],
             [
              0.4444444444444444,
              "#bd3786"
             ],
             [
              0.5555555555555556,
              "#d8576b"
             ],
             [
              0.6666666666666666,
              "#ed7953"
             ],
             [
              0.7777777777777778,
              "#fb9f3a"
             ],
             [
              0.8888888888888888,
              "#fdca26"
             ],
             [
              1,
              "#f0f921"
             ]
            ],
            "type": "surface"
           }
          ],
          "table": [
           {
            "cells": {
             "fill": {
              "color": "#EBF0F8"
             },
             "line": {
              "color": "white"
             }
            },
            "header": {
             "fill": {
              "color": "#C8D4E3"
             },
             "line": {
              "color": "white"
             }
            },
            "type": "table"
           }
          ]
         },
         "layout": {
          "annotationdefaults": {
           "arrowcolor": "#2a3f5f",
           "arrowhead": 0,
           "arrowwidth": 1
          },
          "autotypenumbers": "strict",
          "coloraxis": {
           "colorbar": {
            "outlinewidth": 0,
            "ticks": ""
           }
          },
          "colorscale": {
           "diverging": [
            [
             0,
             "#8e0152"
            ],
            [
             0.1,
             "#c51b7d"
            ],
            [
             0.2,
             "#de77ae"
            ],
            [
             0.3,
             "#f1b6da"
            ],
            [
             0.4,
             "#fde0ef"
            ],
            [
             0.5,
             "#f7f7f7"
            ],
            [
             0.6,
             "#e6f5d0"
            ],
            [
             0.7,
             "#b8e186"
            ],
            [
             0.8,
             "#7fbc41"
            ],
            [
             0.9,
             "#4d9221"
            ],
            [
             1,
             "#276419"
            ]
           ],
           "sequential": [
            [
             0,
             "#0d0887"
            ],
            [
             0.1111111111111111,
             "#46039f"
            ],
            [
             0.2222222222222222,
             "#7201a8"
            ],
            [
             0.3333333333333333,
             "#9c179e"
            ],
            [
             0.4444444444444444,
             "#bd3786"
            ],
            [
             0.5555555555555556,
             "#d8576b"
            ],
            [
             0.6666666666666666,
             "#ed7953"
            ],
            [
             0.7777777777777778,
             "#fb9f3a"
            ],
            [
             0.8888888888888888,
             "#fdca26"
            ],
            [
             1,
             "#f0f921"
            ]
           ],
           "sequentialminus": [
            [
             0,
             "#0d0887"
            ],
            [
             0.1111111111111111,
             "#46039f"
            ],
            [
             0.2222222222222222,
             "#7201a8"
            ],
            [
             0.3333333333333333,
             "#9c179e"
            ],
            [
             0.4444444444444444,
             "#bd3786"
            ],
            [
             0.5555555555555556,
             "#d8576b"
            ],
            [
             0.6666666666666666,
             "#ed7953"
            ],
            [
             0.7777777777777778,
             "#fb9f3a"
            ],
            [
             0.8888888888888888,
             "#fdca26"
            ],
            [
             1,
             "#f0f921"
            ]
           ]
          },
          "colorway": [
           "#636efa",
           "#EF553B",
           "#00cc96",
           "#ab63fa",
           "#FFA15A",
           "#19d3f3",
           "#FF6692",
           "#B6E880",
           "#FF97FF",
           "#FECB52"
          ],
          "font": {
           "color": "#2a3f5f"
          },
          "geo": {
           "bgcolor": "white",
           "lakecolor": "white",
           "landcolor": "#E5ECF6",
           "showlakes": true,
           "showland": true,
           "subunitcolor": "white"
          },
          "hoverlabel": {
           "align": "left"
          },
          "hovermode": "closest",
          "mapbox": {
           "style": "light"
          },
          "paper_bgcolor": "white",
          "plot_bgcolor": "#E5ECF6",
          "polar": {
           "angularaxis": {
            "gridcolor": "white",
            "linecolor": "white",
            "ticks": ""
           },
           "bgcolor": "#E5ECF6",
           "radialaxis": {
            "gridcolor": "white",
            "linecolor": "white",
            "ticks": ""
           }
          },
          "scene": {
           "xaxis": {
            "backgroundcolor": "#E5ECF6",
            "gridcolor": "white",
            "gridwidth": 2,
            "linecolor": "white",
            "showbackground": true,
            "ticks": "",
            "zerolinecolor": "white"
           },
           "yaxis": {
            "backgroundcolor": "#E5ECF6",
            "gridcolor": "white",
            "gridwidth": 2,
            "linecolor": "white",
            "showbackground": true,
            "ticks": "",
            "zerolinecolor": "white"
           },
           "zaxis": {
            "backgroundcolor": "#E5ECF6",
            "gridcolor": "white",
            "gridwidth": 2,
            "linecolor": "white",
            "showbackground": true,
            "ticks": "",
            "zerolinecolor": "white"
           }
          },
          "shapedefaults": {
           "line": {
            "color": "#2a3f5f"
           }
          },
          "ternary": {
           "aaxis": {
            "gridcolor": "white",
            "linecolor": "white",
            "ticks": ""
           },
           "baxis": {
            "gridcolor": "white",
            "linecolor": "white",
            "ticks": ""
           },
           "bgcolor": "#E5ECF6",
           "caxis": {
            "gridcolor": "white",
            "linecolor": "white",
            "ticks": ""
           }
          },
          "title": {
           "x": 0.05
          },
          "xaxis": {
           "automargin": true,
           "gridcolor": "white",
           "linecolor": "white",
           "ticks": "",
           "title": {
            "standoff": 15
           },
           "zerolinecolor": "white",
           "zerolinewidth": 2
          },
          "yaxis": {
           "automargin": true,
           "gridcolor": "white",
           "linecolor": "white",
           "ticks": "",
           "title": {
            "standoff": 15
           },
           "zerolinecolor": "white",
           "zerolinewidth": 2
          }
         }
        },
        "title": {
         "text": "Starting and Ending Heart Rates Difference<br><sup>per Fitness Event</sup>",
         "x": 0.5,
         "xanchor": "center",
         "yanchor": "top"
        },
        "width": 1400,
        "xaxis": {
         "anchor": "y",
         "autorange": true,
         "domain": [
          0,
          1
         ],
         "range": [
          -0.5,
          58.5
         ],
         "tickangle": -45,
         "title": {
          "text": "Fitness Event"
         },
         "type": "category"
        },
        "yaxis": {
         "anchor": "x",
         "autorange": false,
         "domain": [
          0,
          1
         ],
         "range": [
          -30.07936507936508,
          85.47619047619047
         ],
         "title": {
          "text": "Heart Rate (bpm)"
         },
         "type": "linear"
        }
       }
      },
      "image/png": "[encoded data removed]",
      "text/html": [
       "<div>                            <div id=\"da9e6f74-ece8-4b7a-894d-a0b5690f7e40\" class=\"plotly-graph-div\" style=\"height:600px; width:1400px;\"></div>            <script type=\"text/javascript\">                require([\"plotly\"], function(Plotly) {                    window.PLOTLYENV=window.PLOTLYENV || {};                                    if (document.getElementById(\"da9e6f74-ece8-4b7a-894d-a0b5690f7e40\")) {                    Plotly.newPlot(                        \"da9e6f74-ece8-4b7a-894d-a0b5690f7e40\",                        [{\"alignmentgroup\":\"True\",\"hovertemplate\":\"Fitness Event=%{x}\\u003cbr\\u003eHeart Rate Difference=%{y}\\u003cextra\\u003e\\u003c\\u002fextra\\u003e\",\"legendgroup\":\"\",\"marker\":{\"color\":\"#636efa\",\"pattern\":{\"shape\":\"\"}},\"name\":\"\",\"offsetgroup\":\"\",\"orientation\":\"v\",\"showlegend\":false,\"textposition\":\"auto\",\"x\":[\"Fitness Event 1\",\"Fitness Event 2\",\"Fitness Event 3\",\"Fitness Event 4\",\"Fitness Event 5\",\"Fitness Event 6\",\"Fitness Event 7\",\"Fitness Event 8\",\"Fitness Event 9\",\"Fitness Event 10\",\"Fitness Event 11\",\"Fitness Event 12\",\"Fitness Event 13\",\"Fitness Event 14\",\"Fitness Event 15\",\"Fitness Event 16\",\"Fitness Event 17\",\"Fitness Event 18\",\"Fitness Event 19\",\"Fitness Event 20\",\"Fitness Event 21\",\"Fitness Event 22\",\"Fitness Event 23\",\"Fitness Event 24\",\"Fitness Event 25\",\"Fitness Event 26\",\"Fitness Event 27\",\"Fitness Event 28\",\"Fitness Event 29\",\"Fitness Event 30\",\"Fitness Event 31\",\"Fitness Event 32\",\"Fitness Event 33\",\"Fitness Event 34\",\"Fitness Event 35\",\"Fitness Event 36\",\"Fitness Event 37\",\"Fitness Event 38\",\"Fitness Event 39\",\"Fitness Event 40\",\"Fitness Event 41\",\"Fitness Event 42\",\"Fitness Event 43\",\"Fitness Event 44\",\"Fitness Event 45\",\"Fitness Event 46\",\"Fitness Event 47\",\"Fitness Event 48\",\"Fitness Event 49\",\"Fitness Event 50\",\"Fitness Event 51\",\"Fitness Event 52\",\"Fitness Event 53\",\"Fitness Event 54\",\"Fitness Event 57\",\"Fitness Event 58\",\"Fitness Event 61\",\"Fitness Event 62\",\"Fitness Event 64\"],\"xaxis\":\"x\",\"y\":[64.0,65.0,21.0,13.0,46.0,19.0,38.0,47.0,43.0,53.0,25.0,4.0,27.0,57.0,44.0,62.0,66.0,8.0,17.0,58.0,41.0,35.0,31.0,50.0,54.0,37.0,57.0,71.0,35.0,60.0,27.0,56.0,72.0,80.0,35.0,39.0,67.0,69.0,78.0,47.0,77.0,79.0,74.0,62.0,50.0,58.0,45.0,50.0,67.0,79.0,83.0,21.0,13.0,0.0,-21.0,43.0,44.0,2.0,43.0],\"yaxis\":\"y\",\"type\":\"bar\"}],                        {\"template\":{\"data\":{\"histogram2dcontour\":[{\"type\":\"histogram2dcontour\",\"colorbar\":{\"outlinewidth\":0,\"ticks\":\"\"},\"colorscale\":[[0.0,\"#0d0887\"],[0.1111111111111111,\"#46039f\"],[0.2222222222222222,\"#7201a8\"],[0.3333333333333333,\"#9c179e\"],[0.4444444444444444,\"#bd3786\"],[0.5555555555555556,\"#d8576b\"],[0.6666666666666666,\"#ed7953\"],[0.7777777777777778,\"#fb9f3a\"],[0.8888888888888888,\"#fdca26\"],[1.0,\"#f0f921\"]]}],\"choropleth\":[{\"type\":\"choropleth\",\"colorbar\":{\"outlinewidth\":0,\"ticks\":\"\"}}],\"histogram2d\":[{\"type\":\"histogram2d\",\"colorbar\":{\"outlinewidth\":0,\"ticks\":\"\"},\"colorscale\":[[0.0,\"#0d0887\"],[0.1111111111111111,\"#46039f\"],[0.2222222222222222,\"#7201a8\"],[0.3333333333333333,\"#9c179e\"],[0.4444444444444444,\"#bd3786\"],[0.5555555555555556,\"#d8576b\"],[0.6666666666666666,\"#ed7953\"],[0.7777777777777778,\"#fb9f3a\"],[0.8888888888888888,\"#fdca26\"],[1.0,\"#f0f921\"]]}],\"heatmap\":[{\"type\":\"heatmap\",\"colorbar\":{\"outlinewidth\":0,\"ticks\":\"\"},\"colorscale\":[[0.0,\"#0d0887\"],[0.1111111111111111,\"#46039f\"],[0.2222222222222222,\"#7201a8\"],[0.3333333333333333,\"#9c179e\"],[0.4444444444444444,\"#bd3786\"],[0.5555555555555556,\"#d8576b\"],[0.6666666666666666,\"#ed7953\"],[0.7777777777777778,\"#fb9f3a\"],[0.8888888888888888,\"#fdca26\"],[1.0,\"#f0f921\"]]}],\"heatmapgl\":[{\"type\":\"heatmapgl\",\"colorbar\":{\"outlinewidth\":0,\"ticks\":\"\"},\"colorscale\":[[0.0,\"#0d0887\"],[0.1111111111111111,\"#46039f\"],[0.2222222222222222,\"#7201a8\"],[0.3333333333333333,\"#9c179e\"],[0.4444444444444444,\"#bd3786\"],[0.5555555555555556,\"#d8576b\"],[0.6666666666666666,\"#ed7953\"],[0.7777777777777778,\"#fb9f3a\"],[0.8888888888888888,\"#fdca26\"],[1.0,\"#f0f921\"]]}],\"contourcarpet\":[{\"type\":\"contourcarpet\",\"colorbar\":{\"outlinewidth\":0,\"ticks\":\"\"}}],\"contour\":[{\"type\":\"contour\",\"colorbar\":{\"outlinewidth\":0,\"ticks\":\"\"},\"colorscale\":[[0.0,\"#0d0887\"],[0.1111111111111111,\"#46039f\"],[0.2222222222222222,\"#7201a8\"],[0.3333333333333333,\"#9c179e\"],[0.4444444444444444,\"#bd3786\"],[0.5555555555555556,\"#d8576b\"],[0.6666666666666666,\"#ed7953\"],[0.7777777777777778,\"#fb9f3a\"],[0.8888888888888888,\"#fdca26\"],[1.0,\"#f0f921\"]]}],\"surface\":[{\"type\":\"surface\",\"colorbar\":{\"outlinewidth\":0,\"ticks\":\"\"},\"colorscale\":[[0.0,\"#0d0887\"],[0.1111111111111111,\"#46039f\"],[0.2222222222222222,\"#7201a8\"],[0.3333333333333333,\"#9c179e\"],[0.4444444444444444,\"#bd3786\"],[0.5555555555555556,\"#d8576b\"],[0.6666666666666666,\"#ed7953\"],[0.7777777777777778,\"#fb9f3a\"],[0.8888888888888888,\"#fdca26\"],[1.0,\"#f0f921\"]]}],\"mesh3d\":[{\"type\":\"mesh3d\",\"colorbar\":{\"outlinewidth\":0,\"ticks\":\"\"}}],\"scatter\":[{\"fillpattern\":{\"fillmode\":\"overlay\",\"size\":10,\"solidity\":0.2},\"type\":\"scatter\"}],\"parcoords\":[{\"type\":\"parcoords\",\"line\":{\"colorbar\":{\"outlinewidth\":0,\"ticks\":\"\"}}}],\"scatterpolargl\":[{\"type\":\"scatterpolargl\",\"marker\":{\"colorbar\":{\"outlinewidth\":0,\"ticks\":\"\"}}}],\"bar\":[{\"error_x\":{\"color\":\"#2a3f5f\"},\"error_y\":{\"color\":\"#2a3f5f\"},\"marker\":{\"line\":{\"color\":\"#E5ECF6\",\"width\":0.5},\"pattern\":{\"fillmode\":\"overlay\",\"size\":10,\"solidity\":0.2}},\"type\":\"bar\"}],\"scattergeo\":[{\"type\":\"scattergeo\",\"marker\":{\"colorbar\":{\"outlinewidth\":0,\"ticks\":\"\"}}}],\"scatterpolar\":[{\"type\":\"scatterpolar\",\"marker\":{\"colorbar\":{\"outlinewidth\":0,\"ticks\":\"\"}}}],\"histogram\":[{\"marker\":{\"pattern\":{\"fillmode\":\"overlay\",\"size\":10,\"solidity\":0.2}},\"type\":\"histogram\"}],\"scattergl\":[{\"type\":\"scattergl\",\"marker\":{\"colorbar\":{\"outlinewidth\":0,\"ticks\":\"\"}}}],\"scatter3d\":[{\"type\":\"scatter3d\",\"line\":{\"colorbar\":{\"outlinewidth\":0,\"ticks\":\"\"}},\"marker\":{\"colorbar\":{\"outlinewidth\":0,\"ticks\":\"\"}}}],\"scattermapbox\":[{\"type\":\"scattermapbox\",\"marker\":{\"colorbar\":{\"outlinewidth\":0,\"ticks\":\"\"}}}],\"scatterternary\":[{\"type\":\"scatterternary\",\"marker\":{\"colorbar\":{\"outlinewidth\":0,\"ticks\":\"\"}}}],\"scattercarpet\":[{\"type\":\"scattercarpet\",\"marker\":{\"colorbar\":{\"outlinewidth\":0,\"ticks\":\"\"}}}],\"carpet\":[{\"aaxis\":{\"endlinecolor\":\"#2a3f5f\",\"gridcolor\":\"white\",\"linecolor\":\"white\",\"minorgridcolor\":\"white\",\"startlinecolor\":\"#2a3f5f\"},\"baxis\":{\"endlinecolor\":\"#2a3f5f\",\"gridcolor\":\"white\",\"linecolor\":\"white\",\"minorgridcolor\":\"white\",\"startlinecolor\":\"#2a3f5f\"},\"type\":\"carpet\"}],\"table\":[{\"cells\":{\"fill\":{\"color\":\"#EBF0F8\"},\"line\":{\"color\":\"white\"}},\"header\":{\"fill\":{\"color\":\"#C8D4E3\"},\"line\":{\"color\":\"white\"}},\"type\":\"table\"}],\"barpolar\":[{\"marker\":{\"line\":{\"color\":\"#E5ECF6\",\"width\":0.5},\"pattern\":{\"fillmode\":\"overlay\",\"size\":10,\"solidity\":0.2}},\"type\":\"barpolar\"}],\"pie\":[{\"automargin\":true,\"type\":\"pie\"}]},\"layout\":{\"autotypenumbers\":\"strict\",\"colorway\":[\"#636efa\",\"#EF553B\",\"#00cc96\",\"#ab63fa\",\"#FFA15A\",\"#19d3f3\",\"#FF6692\",\"#B6E880\",\"#FF97FF\",\"#FECB52\"],\"font\":{\"color\":\"#2a3f5f\"},\"hovermode\":\"closest\",\"hoverlabel\":{\"align\":\"left\"},\"paper_bgcolor\":\"white\",\"plot_bgcolor\":\"#E5ECF6\",\"polar\":{\"bgcolor\":\"#E5ECF6\",\"angularaxis\":{\"gridcolor\":\"white\",\"linecolor\":\"white\",\"ticks\":\"\"},\"radialaxis\":{\"gridcolor\":\"white\",\"linecolor\":\"white\",\"ticks\":\"\"}},\"ternary\":{\"bgcolor\":\"#E5ECF6\",\"aaxis\":{\"gridcolor\":\"white\",\"linecolor\":\"white\",\"ticks\":\"\"},\"baxis\":{\"gridcolor\":\"white\",\"linecolor\":\"white\",\"ticks\":\"\"},\"caxis\":{\"gridcolor\":\"white\",\"linecolor\":\"white\",\"ticks\":\"\"}},\"coloraxis\":{\"colorbar\":{\"outlinewidth\":0,\"ticks\":\"\"}},\"colorscale\":{\"sequential\":[[0.0,\"#0d0887\"],[0.1111111111111111,\"#46039f\"],[0.2222222222222222,\"#7201a8\"],[0.3333333333333333,\"#9c179e\"],[0.4444444444444444,\"#bd3786\"],[0.5555555555555556,\"#d8576b\"],[0.6666666666666666,\"#ed7953\"],[0.7777777777777778,\"#fb9f3a\"],[0.8888888888888888,\"#fdca26\"],[1.0,\"#f0f921\"]],\"sequentialminus\":[[0.0,\"#0d0887\"],[0.1111111111111111,\"#46039f\"],[0.2222222222222222,\"#7201a8\"],[0.3333333333333333,\"#9c179e\"],[0.4444444444444444,\"#bd3786\"],[0.5555555555555556,\"#d8576b\"],[0.6666666666666666,\"#ed7953\"],[0.7777777777777778,\"#fb9f3a\"],[0.8888888888888888,\"#fdca26\"],[1.0,\"#f0f921\"]],\"diverging\":[[0,\"#8e0152\"],[0.1,\"#c51b7d\"],[0.2,\"#de77ae\"],[0.3,\"#f1b6da\"],[0.4,\"#fde0ef\"],[0.5,\"#f7f7f7\"],[0.6,\"#e6f5d0\"],[0.7,\"#b8e186\"],[0.8,\"#7fbc41\"],[0.9,\"#4d9221\"],[1,\"#276419\"]]},\"xaxis\":{\"gridcolor\":\"white\",\"linecolor\":\"white\",\"ticks\":\"\",\"title\":{\"standoff\":15},\"zerolinecolor\":\"white\",\"automargin\":true,\"zerolinewidth\":2},\"yaxis\":{\"gridcolor\":\"white\",\"linecolor\":\"white\",\"ticks\":\"\",\"title\":{\"standoff\":15},\"zerolinecolor\":\"white\",\"automargin\":true,\"zerolinewidth\":2},\"scene\":{\"xaxis\":{\"backgroundcolor\":\"#E5ECF6\",\"gridcolor\":\"white\",\"linecolor\":\"white\",\"showbackground\":true,\"ticks\":\"\",\"zerolinecolor\":\"white\",\"gridwidth\":2},\"yaxis\":{\"backgroundcolor\":\"#E5ECF6\",\"gridcolor\":\"white\",\"linecolor\":\"white\",\"showbackground\":true,\"ticks\":\"\",\"zerolinecolor\":\"white\",\"gridwidth\":2},\"zaxis\":{\"backgroundcolor\":\"#E5ECF6\",\"gridcolor\":\"white\",\"linecolor\":\"white\",\"showbackground\":true,\"ticks\":\"\",\"zerolinecolor\":\"white\",\"gridwidth\":2}},\"shapedefaults\":{\"line\":{\"color\":\"#2a3f5f\"}},\"annotationdefaults\":{\"arrowcolor\":\"#2a3f5f\",\"arrowhead\":0,\"arrowwidth\":1},\"geo\":{\"bgcolor\":\"white\",\"landcolor\":\"#E5ECF6\",\"subunitcolor\":\"white\",\"showland\":true,\"showlakes\":true,\"lakecolor\":\"white\"},\"title\":{\"x\":0.05},\"mapbox\":{\"style\":\"light\"}}},\"xaxis\":{\"anchor\":\"y\",\"domain\":[0.0,1.0],\"title\":{\"text\":\"Fitness Event\"},\"tickangle\":-45},\"yaxis\":{\"anchor\":\"x\",\"domain\":[0.0,1.0],\"title\":{\"text\":\"Heart Rate (bpm)\"}},\"legend\":{\"tracegroupgap\":0},\"margin\":{\"t\":60},\"barmode\":\"relative\",\"title\":{\"text\":\"Starting and Ending Heart Rates Difference\\u003cbr\\u003e\\u003csup\\u003eper Fitness Event\\u003c\\u002fsup\\u003e\",\"x\":0.5,\"xanchor\":\"center\",\"yanchor\":\"top\"},\"height\":600,\"width\":1400},                        {\"responsive\": true}                    ).then(function(){\n",
       "                            \n",
       "var gd = document.getElementById('da9e6f74-ece8-4b7a-894d-a0b5690f7e40');\n",
       "var x = new MutationObserver(function (mutations, observer) {{\n",
       "        var display = window.getComputedStyle(gd).display;\n",
       "        if (!display || display === 'none') {{\n",
       "            console.log([gd, 'removed!']);\n",
       "            Plotly.purge(gd);\n",
       "            observer.disconnect();\n",
       "        }}\n",
       "}});\n",
       "\n",
       "// Listen for the removal of the full notebook cells\n",
       "var notebookContainer = gd.closest('#notebook-container');\n",
       "if (notebookContainer) {{\n",
       "    x.observe(notebookContainer, {childList: true});\n",
       "}}\n",
       "\n",
       "// Listen for the clearing of the current output cell\n",
       "var outputEl = gd.closest('.output');\n",
       "if (outputEl) {{\n",
       "    x.observe(outputEl, {childList: true});\n",
       "}}\n",
       "\n",
       "                        })                };                });            </script>        </div>"
      ]
     },
     "metadata": {},
     "output_type": "display_data"
    }
   ],
   "source": [
    "fig = px.bar(df_hr2, x='Fitness Event', y='Heart Rate Difference')\n",
    "\n",
    "fig.update_layout(height=600, width=1400, title={\n",
    "        'text': f\"Starting and Ending Heart Rates Difference<br><sup>per Fitness Event</sup>\",\n",
    "        'x':0.5,\n",
    "        'xanchor': 'center',\n",
    "        'yanchor': 'top'\n",
    "    }) \n",
    "fig.update_yaxes(title_text='Heart Rate (bpm)', row=1, col=1)\n",
    "fig.update_xaxes(tickangle=-45)\n",
    "fig.show()"
   ]
  },
  {
   "cell_type": "markdown",
   "id": "1af81edc-89aa-4fd3-bd27-5a5d343861d6",
   "metadata": {},
   "source": [
    "The ending heart rate was greater than the starting heart rate in all but one fitness event. This may have been due an error with the reading technology or Professor Brookes may have accidentally kept recording his heart rate for that event long after he had cooled down from his exercise. There appears to be a lot of change in the difference between starting and ending heart rates. The last five or six differences appear to show a downward trend, but there I don't think the trend is significant enough to be confirm my hypothesis. I expected there to be a trending decline at least by the 30th fitness event. It would be interesting to add in another variable to better gauge the intensity of each fitness event. If Professor Brookes steadily increased the intensity of his workouts, this could be a reason for no significant decline in the difference between starting and ending heart rate. "
   ]
  },
  {
   "cell_type": "code",
   "execution_count": null,
   "id": "0bbf782a-e5c9-44a8-a7ee-78557bb2b46e",
   "metadata": {},
   "outputs": [],
   "source": []
  }
 ],
 "metadata": {
  "kernelspec": {
   "display_name": "Python 3 (ipykernel)",
   "language": "python",
   "name": "python3"
  },
  "language_info": {
   "codemirror_mode": {
    "name": "ipython",
    "version": 3
   },
   "file_extension": ".py",
   "mimetype": "text/x-python",
   "name": "python",
   "nbconvert_exporter": "python",
   "pygments_lexer": "ipython3",
   "version": "3.9.13"
  }
 },
 "nbformat": 4,
 "nbformat_minor": 5
}
